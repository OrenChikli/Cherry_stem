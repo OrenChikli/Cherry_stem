{
 "cells": [
  {
   "cell_type": "code",
   "execution_count": 1,
   "metadata": {
    "pycharm": {
     "is_executing": false
    }
   },
   "outputs": [
    {
     "name": "stderr",
     "output_type": "stream",
     "text": [
      "Using TensorFlow backend.\n"
     ]
    }
   ],
   "source": [
    "from work.unet_main import *\n",
    "from work.unet import unet_model_functions\n",
    "\n",
    "from keras.callbacks import ReduceLROnPlateau,EarlyStopping\n"
   ]
  },
  {
   "cell_type": "code",
   "execution_count": 2,
   "metadata": {
    "pycharm": {
     "name": "#%%\n"
    }
   },
   "outputs": [],
   "source": [
    "train_path=r'D:\\Clarifruit\\cherry_stem\\data\\raw_data\\with_maskes'\n",
    "dest_path=r'D:\\Clarifruit\\cherry_stem\\data\\unet_data\\training'\n",
    "test_path=r'D:\\Clarifruit\\cherry_stem\\data\\raw_data\\images_orig'\n",
    "src_path=r'D:\\Clarifruit\\cherry_stem\\data\\unet_data\\training\\2019-10-11_18-09-39'\n",
    "\n",
    "reduce_lr = ReduceLROnPlateau(monitor='loss', factor=0.2,\n",
    "                              patience=2, min_lr=0.000001,\n",
    "                              cooldown=1, verbose=1)\n",
    "\n",
    "early_stoping = EarlyStopping(monitor='val_loss',\n",
    "                              min_delta=0,\n",
    "                              patience=3,\n",
    "                              verbose=0,\n",
    "                              mode='auto',\n",
    "                              baseline=None,\n",
    "                              restore_best_weights=False)\n",
    "\n",
    "callbacks = [reduce_lr,early_stoping]\n"
   ]
  },
  {
   "cell_type": "code",
   "execution_count": 3,
   "metadata": {
    "pycharm": {
     "name": "#%%\n"
    }
   },
   "outputs": [],
   "source": [
    "#from scratch\n",
    "params_dict = dict(\n",
    "\n",
    "    train_path=train_path,\n",
    "    x_folder_name='image',\n",
    "    y_folder_name='label',\n",
    "    weights_file_name='unet_cherry_stem.hdf5',\n",
    "\n",
    "    data_gen_args=dict(rescale=1. / 255,\n",
    "                       rotation_range=180,\n",
    "                       brightness_range=[0.2, 1.],\n",
    "                       width_shift_range=0.25,\n",
    "                       height_shift_range=0.25,\n",
    "                       shear_range=0.2,\n",
    "                       zoom_range=0.5,\n",
    "                       horizontal_flip=True,\n",
    "                       vertical_flip=True,\n",
    "                       #featurewise_center=True,\n",
    "                       #featurewise_std_normalization=True,\n",
    "                       #zca_whitening=True,\n",
    "                       channel_shift_range=5,\n",
    "                       fill_mode='nearest'),\n",
    "\n",
    "    optimizer='Adam',\n",
    "    optimizer_params=dict(lr=1e-4),\n",
    "    loss='binary_crossentropy',\n",
    "    metrics=['accuracy'],\n",
    "    pretrained_weights=None,\n",
    "\n",
    "    target_size=(256, 256),\n",
    "    color_mode='rgb',\n",
    "    batch_size=10,\n",
    "    epochs=3,\n",
    "    steps_per_epoch=100,\n",
    "    valdiation_split=0.2,\n",
    "    validation_steps=30)\n",
    "\n",
    "params_dict['callbacks'] = callbacks"
   ]
  },
  {
   "cell_type": "code",
   "execution_count": 18,
   "metadata": {
    "pycharm": {
     "name": "#%%\n"
    }
   },
   "outputs": [],
   "source": [
    "#load pretrained\n",
    "params_dict = unet_model_functions.ClarifruitUnet.load_model(src_path)\n",
    "params_dict['callbacks'] = callbacks\n",
    "params_dict['metrics']=['accuracy']"
   ]
  },
  {
   "cell_type": "code",
   "execution_count": 13,
   "metadata": {
    "pycharm": {
     "name": "#%%\n"
    }
   },
   "outputs": [],
   "source": [
    "train_params = dict(\n",
    "\n",
    "    data_gen_args=dict(rescale=1. / 255,\n",
    "                       rotation_range=180,\n",
    "                       brightness_range=[0.2, 1.],\n",
    "                       width_shift_range=0.25,\n",
    "                       height_shift_range=0.25,\n",
    "                       shear_range=0.2,\n",
    "                       zoom_range=0.5,\n",
    "                       horizontal_flip=True,\n",
    "                       vertical_flip=True,\n",
    "                       fill_mode='nearest',\n",
    "                       zca_whitening=True,\n",
    "                       featurewise_center=True,\n",
    "                       featurewise_std_normalization=True,\n",
    "                       channel_shift_range=50),\n",
    "\n",
    "    callbacks=[reduce_lr],\n",
    "\n",
    "    batch_size=3,\n",
    "    epochs=3,\n",
    "    steps_per_epoch=100,\n",
    "    valdiation_split=0.2,\n",
    "    validation_steps=30)\n",
    "\n",
    "params_dict.update(train_params)  # uncomment to modify the model parameters"
   ]
  },
  {
   "cell_type": "code",
   "execution_count": 4,
   "metadata": {
    "pycharm": {
     "is_executing": false,
     "name": "#%%\n"
    }
   },
   "outputs": [
    {
     "name": "stdout",
     "output_type": "stream",
     "text": [
      "2019-10-12 14:25:02,601-6d  INFO     work.unet.unet_model: <- unet model with input_size=(256, 256, 3) andpretraind_weights=None \n"
     ]
    },
    {
     "ename": "TypeError",
     "evalue": "'NoneType' object is not an iterator",
     "output_type": "error",
     "traceback": [
      "\u001b[1;31m---------------------------------------------------------------------------\u001b[0m",
      "\u001b[1;31mTypeError\u001b[0m                                 Traceback (most recent call last)",
      "\u001b[1;32m<ipython-input-4-5b5760a33f75>\u001b[0m in \u001b[0;36m<module>\u001b[1;34m\u001b[0m\n\u001b[0;32m      1\u001b[0m \u001b[0mmodel\u001b[0m \u001b[1;33m=\u001b[0m \u001b[0munet_model_functions\u001b[0m\u001b[1;33m.\u001b[0m\u001b[0mClarifruitUnet\u001b[0m\u001b[1;33m(\u001b[0m\u001b[1;33m**\u001b[0m\u001b[0mparams_dict\u001b[0m\u001b[1;33m)\u001b[0m\u001b[1;33m\u001b[0m\u001b[1;33m\u001b[0m\u001b[0m\n\u001b[1;32m----> 2\u001b[1;33m \u001b[0mmodel\u001b[0m\u001b[1;33m.\u001b[0m\u001b[0mtrain_model\u001b[0m\u001b[1;33m(\u001b[0m\u001b[0mdest_path\u001b[0m\u001b[1;33m=\u001b[0m\u001b[0mdest_path\u001b[0m\u001b[1;33m,\u001b[0m\u001b[0mparams_dict\u001b[0m\u001b[1;33m=\u001b[0m\u001b[0mparams_dict\u001b[0m\u001b[1;33m)\u001b[0m\u001b[1;33m\u001b[0m\u001b[1;33m\u001b[0m\u001b[0m\n\u001b[0m",
      "\u001b[1;32mD:\\Clarifruit\\cherry_stem\\work\\unet\\unet_model_functions.py\u001b[0m in \u001b[0;36mtrain_model\u001b[1;34m(self, params_dict, dest_path)\u001b[0m\n\u001b[0;32m    473\u001b[0m         \u001b[0mlogger\u001b[0m\u001b[1;33m.\u001b[0m\u001b[0mdebug\u001b[0m\u001b[1;33m(\u001b[0m\u001b[1;34mf\" <- train_model\"\u001b[0m\u001b[1;33m)\u001b[0m\u001b[1;33m\u001b[0m\u001b[1;33m\u001b[0m\u001b[0m\n\u001b[0;32m    474\u001b[0m         \u001b[1;32mif\u001b[0m \u001b[0mdest_path\u001b[0m \u001b[1;32mis\u001b[0m \u001b[1;32mnot\u001b[0m \u001b[1;32mNone\u001b[0m\u001b[1;33m:\u001b[0m\u001b[1;33m\u001b[0m\u001b[1;33m\u001b[0m\u001b[0m\n\u001b[1;32m--> 475\u001b[1;33m             \u001b[0mself\u001b[0m\u001b[1;33m.\u001b[0m\u001b[0msave_model\u001b[0m\u001b[1;33m(\u001b[0m\u001b[0mdest_path\u001b[0m\u001b[1;33m=\u001b[0m\u001b[0mdest_path\u001b[0m\u001b[1;33m,\u001b[0m\u001b[0mparams_dict\u001b[0m\u001b[1;33m=\u001b[0m\u001b[0mparams_dict\u001b[0m\u001b[1;33m)\u001b[0m\u001b[1;33m\u001b[0m\u001b[1;33m\u001b[0m\u001b[0m\n\u001b[0m\u001b[0;32m    476\u001b[0m         \u001b[0mself\u001b[0m\u001b[1;33m.\u001b[0m\u001b[0mfit_unet\u001b[0m\u001b[1;33m(\u001b[0m\u001b[1;33m)\u001b[0m\u001b[1;33m\u001b[0m\u001b[1;33m\u001b[0m\u001b[0m\n\u001b[0;32m    477\u001b[0m \u001b[1;33m\u001b[0m\u001b[0m\n",
      "\u001b[1;32mD:\\Clarifruit\\cherry_stem\\work\\unet\\unet_model_functions.py\u001b[0m in \u001b[0;36msave_model\u001b[1;34m(self, dest_path, params_dict)\u001b[0m\n\u001b[0;32m    411\u001b[0m         \u001b[0mlogger\u001b[0m\u001b[1;33m.\u001b[0m\u001b[0mdebug\u001b[0m\u001b[1;33m(\u001b[0m\u001b[1;34m\" <- save_model\"\u001b[0m\u001b[1;33m)\u001b[0m\u001b[1;33m\u001b[0m\u001b[1;33m\u001b[0m\u001b[0m\n\u001b[0;32m    412\u001b[0m         \u001b[1;32mif\u001b[0m \u001b[0mparams_dict\u001b[0m \u001b[1;32mis\u001b[0m \u001b[1;32mnot\u001b[0m \u001b[1;32mNone\u001b[0m\u001b[1;33m:\u001b[0m\u001b[1;33m\u001b[0m\u001b[1;33m\u001b[0m\u001b[0m\n\u001b[1;32m--> 413\u001b[1;33m             \u001b[0mcurr_folder\u001b[0m \u001b[1;33m=\u001b[0m \u001b[0mself\u001b[0m\u001b[1;33m.\u001b[0m\u001b[0mset_model_checkpint\u001b[0m\u001b[1;33m(\u001b[0m\u001b[0mdest_path\u001b[0m\u001b[1;33m=\u001b[0m\u001b[0mdest_path\u001b[0m\u001b[1;33m)\u001b[0m\u001b[1;33m\u001b[0m\u001b[1;33m\u001b[0m\u001b[0m\n\u001b[0m\u001b[0;32m    414\u001b[0m         \u001b[1;32melse\u001b[0m\u001b[1;33m:\u001b[0m\u001b[1;33m\u001b[0m\u001b[1;33m\u001b[0m\u001b[0m\n\u001b[0;32m    415\u001b[0m             \u001b[0mcurr_folder\u001b[0m \u001b[1;33m=\u001b[0m \u001b[0mself\u001b[0m\u001b[1;33m.\u001b[0m\u001b[0mget_curr_folder\u001b[0m\u001b[1;33m(\u001b[0m\u001b[0mdest_path\u001b[0m\u001b[1;33m=\u001b[0m\u001b[0mdest_path\u001b[0m\u001b[1;33m)\u001b[0m\u001b[1;33m\u001b[0m\u001b[1;33m\u001b[0m\u001b[0m\n",
      "\u001b[1;32mD:\\Clarifruit\\cherry_stem\\work\\unet\\unet_model_functions.py\u001b[0m in \u001b[0;36mset_model_checkpint\u001b[1;34m(self, dest_path)\u001b[0m\n\u001b[0;32m    449\u001b[0m                                             verbose=1, save_best_only=True)\n\u001b[0;32m    450\u001b[0m \u001b[1;33m\u001b[0m\u001b[0m\n\u001b[1;32m--> 451\u001b[1;33m         \u001b[0mv_data\u001b[0m \u001b[1;33m=\u001b[0m \u001b[1;33m[\u001b[0m\u001b[0mnext\u001b[0m\u001b[1;33m(\u001b[0m\u001b[0mself\u001b[0m\u001b[1;33m.\u001b[0m\u001b[0mval_generator\u001b[0m\u001b[1;33m)\u001b[0m \u001b[1;32mfor\u001b[0m \u001b[0mi\u001b[0m \u001b[1;32min\u001b[0m \u001b[0mrange\u001b[0m\u001b[1;33m(\u001b[0m\u001b[1;36m5\u001b[0m\u001b[1;33m)\u001b[0m\u001b[1;33m]\u001b[0m\u001b[1;33m\u001b[0m\u001b[1;33m\u001b[0m\u001b[0m\n\u001b[0m\u001b[0;32m    452\u001b[0m         image_history = ImageHistory(tensor_board_dir=keras_logs_path,\n\u001b[0;32m    453\u001b[0m                                      \u001b[0mdata\u001b[0m\u001b[1;33m=\u001b[0m\u001b[0mv_data\u001b[0m\u001b[1;33m,\u001b[0m\u001b[1;33m\u001b[0m\u001b[1;33m\u001b[0m\u001b[0m\n",
      "\u001b[1;32mD:\\Clarifruit\\cherry_stem\\work\\unet\\unet_model_functions.py\u001b[0m in \u001b[0;36m<listcomp>\u001b[1;34m(.0)\u001b[0m\n\u001b[0;32m    449\u001b[0m                                             verbose=1, save_best_only=True)\n\u001b[0;32m    450\u001b[0m \u001b[1;33m\u001b[0m\u001b[0m\n\u001b[1;32m--> 451\u001b[1;33m         \u001b[0mv_data\u001b[0m \u001b[1;33m=\u001b[0m \u001b[1;33m[\u001b[0m\u001b[0mnext\u001b[0m\u001b[1;33m(\u001b[0m\u001b[0mself\u001b[0m\u001b[1;33m.\u001b[0m\u001b[0mval_generator\u001b[0m\u001b[1;33m)\u001b[0m \u001b[1;32mfor\u001b[0m \u001b[0mi\u001b[0m \u001b[1;32min\u001b[0m \u001b[0mrange\u001b[0m\u001b[1;33m(\u001b[0m\u001b[1;36m5\u001b[0m\u001b[1;33m)\u001b[0m\u001b[1;33m]\u001b[0m\u001b[1;33m\u001b[0m\u001b[1;33m\u001b[0m\u001b[0m\n\u001b[0m\u001b[0;32m    452\u001b[0m         image_history = ImageHistory(tensor_board_dir=keras_logs_path,\n\u001b[0;32m    453\u001b[0m                                      \u001b[0mdata\u001b[0m\u001b[1;33m=\u001b[0m\u001b[0mv_data\u001b[0m\u001b[1;33m,\u001b[0m\u001b[1;33m\u001b[0m\u001b[1;33m\u001b[0m\u001b[0m\n",
      "\u001b[1;31mTypeError\u001b[0m: 'NoneType' object is not an iterator"
     ]
    }
   ],
   "source": [
    "model = unet_model_functions.ClarifruitUnet(**params_dict)\n",
    "model.train_model(dest_path=dest_path,params_dict=params_dict)"
   ]
  },
  {
   "cell_type": "code",
   "execution_count": 5,
   "metadata": {},
   "outputs": [
    {
     "name": "stdout",
     "output_type": "stream",
     "text": [
      "2019-10-11 16:40:40,096-6d  INFO     work.unet.unet_model_functions: prediction on files from D:\\Clarifruit\\cherry_stem\\data\\raw_data\\images_orig\n",
      "2019-10-11 16:40:40,099-6d  INFO     work.unet.unet_model_functions: saving predictions to D:\\Clarifruit\\cherry_stem\\data\\unet_data\\training\\2019-10-11_13-59-38\\raw_pred\n"
     ]
    },
    {
     "data": {
      "text/plain": [
       "'D:\\\\Clarifruit\\\\cherry_stem\\\\data\\\\unet_data\\\\training\\\\2019-10-11_13-59-38\\\\raw_pred'"
      ]
     },
     "execution_count": 5,
     "metadata": {},
     "output_type": "execute_result"
    }
   ],
   "source": [
    "model.prediction(test_path,dest_path)\n"
   ]
  },
  {
   "cell_type": "code",
   "execution_count": 2,
   "metadata": {},
   "outputs": [],
   "source": [
    "from work.stem_classifier.model_functions import *\n"
   ]
  },
  {
   "cell_type": "code",
   "execution_count": null,
   "metadata": {},
   "outputs": [
    {
     "name": "stdout",
     "output_type": "stream",
     "text": [
      "Found 349 images belonging to 4 classes.\n",
      "Found 85 images belonging to 4 classes.\n",
      "Epoch 1/10\n",
      "3000/3000 [==============================] - 994s 331ms/step - loss: 1.1869 - acc: 0.4543 - val_loss: 2.3112 - val_acc: 0.3619\n",
      "\n",
      "Epoch 00001: loss improved from inf to 1.18693, saving model to D:\\Clarifruit\\cherry_stem\\data\\unet_data\\training\\2019-10-07_20-12-39\\2019-10-11_03-08-49\\model_weights.hdf5\n",
      "Epoch 2/10\n",
      "3000/3000 [==============================] - 1050s 350ms/step - loss: 0.6502 - acc: 0.7206 - val_loss: 3.8966 - val_acc: 0.3954\n",
      "\n",
      "Epoch 00002: loss improved from 1.18693 to 0.65009, saving model to D:\\Clarifruit\\cherry_stem\\data\\unet_data\\training\\2019-10-07_20-12-39\\2019-10-11_03-08-49\\model_weights.hdf5\n",
      "Epoch 3/10\n",
      " 448/3000 [===>..........................] - ETA: 13:08 - loss: 0.5087 - acc: 0.7811"
     ]
    }
   ],
   "source": [
    "train_path=r'D:\\Clarifruit\\cherry_stem\\data\\classification_data\\from_all\\set1\\train'\n",
    "dest_path=r'D:\\Clarifruit\\cherry_stem\\data\\unet_data\\training\\2019-10-07_20-12-39'\n",
    "test_path=r'D:\\Clarifruit\\cherry_stem\\data\\classification_data\\from_all\\set1\\test'\n",
    "\n",
    "params_dict = dict(\n",
    "\n",
    "    train_path=train_path,\n",
    "\n",
    "    data_gen_args=dict(rescale=1. / 255,\n",
    "                       rotation_range=180,\n",
    "                       width_shift_range=0.25,\n",
    "                       height_shift_range=0.25,\n",
    "                       shear_range=0.2,\n",
    "                       zoom_range=[0.5, 1.0],\n",
    "                       horizontal_flip=True,\n",
    "                       vertical_flip=True,\n",
    "                       fill_mode='nearest'),\n",
    "\n",
    "    optimizer='Adam',\n",
    "    optimizer_params=dict(lr=1e-4),\n",
    "    loss='categorical_crossentropy',\n",
    "    metrics=['accuracy'],\n",
    "    pretrained_weights=None,\n",
    "\n",
    "    target_size=(256, 256),\n",
    "    color_mode='rgb',\n",
    "    batch_size=10,\n",
    "    epochs=10,\n",
    "    steps_per_epoch=3000,\n",
    "    valdiation_split=0.2,\n",
    "    validation_steps=300)\n",
    "\n",
    "\n",
    "\n",
    "model = ClarifruitClassifier(**params_dict)\n",
    "\n",
    "model.train_model(dest_path=dest_path,params_dict=params_dict)\n",
    "\n",
    "\n"
   ]
  },
  {
   "cell_type": "code",
   "execution_count": null,
   "metadata": {},
   "outputs": [],
   "source": [
    "model.prediction(test_path,dest_path)"
   ]
  }
 ],
 "metadata": {
  "kernelspec": {
   "display_name": "Python 3",
   "language": "python",
   "name": "python3"
  },
  "language_info": {
   "codemirror_mode": {
    "name": "ipython",
    "version": 3
   },
   "file_extension": ".py",
   "mimetype": "text/x-python",
   "name": "python",
   "nbconvert_exporter": "python",
   "pygments_lexer": "ipython3",
   "version": "3.7.4"
  },
  "pycharm": {
   "stem_cell": {
    "cell_type": "raw",
    "metadata": {
     "collapsed": false
    },
    "source": []
   }
  }
 },
 "nbformat": 4,
 "nbformat_minor": 2
}
