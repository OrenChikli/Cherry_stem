{
 "cells": [
  {
   "cell_type": "code",
   "execution_count": 1,
   "metadata": {
    "pycharm": {
     "is_executing": false
    }
   },
   "outputs": [
    {
     "name": "stderr",
     "output_type": "stream",
     "text": [
      "Using TensorFlow backend.\n"
     ]
    }
   ],
   "source": [
    "import sys\n",
    "sys.path.append(r\"D:\\Clarifruit\\cherry_stem\")\n",
    "\n",
    "from work.unet_main import *\n",
    "from work.unet import unet_model_functions\n",
    "\n",
    "from keras.callbacks import ReduceLROnPlateau,EarlyStopping"
   ]
  },
  {
   "cell_type": "code",
   "execution_count": 2,
   "metadata": {
    "pycharm": {
     "name": "#%%\n"
    }
   },
   "outputs": [],
   "source": [
    "train_path=r'D:\\Clarifruit\\cherry_stem\\data\\raw_data\\with_maskes'\n",
    "dest_path=r'D:\\Clarifruit\\cherry_stem\\data\\unet_data\\training'\n",
    "test_path=r'D:\\Clarifruit\\cherry_stem\\data\\raw_data\\images_orig'\n",
    "src_path=r'D:\\Clarifruit\\cherry_stem\\data\\unet_data\\training\\2019-10-13_18-57-55'\n",
    "weights_name =r'unet_cherry_stem.3008-0.08.hdf5'\n"
   ]
  },
  {
   "cell_type": "code",
   "execution_count": 3,
   "metadata": {
    "pycharm": {
     "name": "#%%\n"
    }
   },
   "outputs": [],
   "source": [
    "params_dict = dict(\n",
    "\n",
    "    train_path=train_path,\n",
    "    save_path=dest_path,\n",
    "    x_folder_name='image',\n",
    "    y_folder_name='label',\n",
    "    weights_file_name='unet_cherry_stem.hdf5',\n",
    "\n",
    "    data_gen_args=dict(rotation_range=180,\n",
    "                       brightness_range=[0.2, 1.],\n",
    "                       shear_range=10,\n",
    "                       zoom_range=0.5,\n",
    "                       horizontal_flip=True,\n",
    "                       vertical_flip=True,\n",
    "                       channel_shift_range=5,\n",
    "                       fill_mode='nearest'),\n",
    "    seed=78,\n",
    "\n",
    "\n",
    "    optimizer='Adam',\n",
    "    optimizer_params=dict(lr=1e-5),\n",
    "    loss='binary_crossentropy',\n",
    "    metrics=['accuracy'],\n",
    "    pretrained_weights=None,\n",
    "\n",
    "    target_size=(256, 256),\n",
    "    color_mode='rgb',\n",
    "    \n",
    "    batch_size=10, # my GPU cant handel any more\n",
    "    \n",
    "    epochs=10,\n",
    "    steps_per_epoch=3000,\n",
    "    valdiation_split=0.2,\n",
    "    validation_steps=300,\n",
    "    \n",
    "    tensorboard_update_freq=1000,\n",
    "    weights_update_freq = 5000,\n",
    "    ontop_display_threshold=0.4)"
   ]
  },
  {
   "cell_type": "code",
   "execution_count": null,
   "metadata": {},
   "outputs": [],
   "source": [
    "model = unet_model_functions.ClarifruitUnet(**params_dict)\n",
    "keras_logs_path=model.set_model_for_train(params_dict=params_dict)"
   ]
  },
  {
   "cell_type": "code",
   "execution_count": 4,
   "metadata": {},
   "outputs": [
    {
     "name": "stdout",
     "output_type": "stream",
     "text": [
      "2019-10-13 19:19:44,552-6d  INFO     work.unet.unet_model: <- unet model with input_size=(256, 256, 3)\n",
      "2019-10-13 19:19:44,553-6d  INFO     work.unet.unet_model:  model loaded from pretraind_weights=D:\\Clarifruit\\cherry_stem\\data\\unet_data\\training\\2019-10-13_18-57-55\\unet_cherry_stem.3008-0.08.hdf5\n",
      "Found 152 images belonging to 1 classes.\n",
      "Found 38 images belonging to 1 classes.\n",
      "Found 152 images belonging to 1 classes.\n",
      "Found 38 images belonging to 1 classes.\n",
      "Found 152 images belonging to 1 classes.\n",
      "Found 38 images belonging to 1 classes.\n",
      "Found 152 images belonging to 1 classes.\n",
      "Found 38 images belonging to 1 classes.\n"
     ]
    }
   ],
   "source": [
    "# load model\n",
    "params_dict = unet_model_functions.ClarifruitUnet.load_model(src_path,weights_name)\n",
    "model = unet_model_functions.ClarifruitUnet(**params_dict)\n",
    "keras_logs_path=model.set_model_for_train(params_dict=params_dict)"
   ]
  },
  {
   "cell_type": "code",
   "execution_count": 5,
   "metadata": {},
   "outputs": [
    {
     "name": "stdout",
     "output_type": "stream",
     "text": [
      "tensorboard --logdir=D:\\Clarifruit\\cherry_stem\\data\\unet_data\\training\\2019-10-13_18-57-55\\keras_logs\n"
     ]
    }
   ],
   "source": [
    "print(f\"tensorboard --logdir={keras_logs_path}\")"
   ]
  },
  {
   "cell_type": "code",
   "execution_count": null,
   "metadata": {},
   "outputs": [
    {
     "name": "stdout",
     "output_type": "stream",
     "text": [
      "Epoch 1/10\n",
      " 526/3000 [====>.........................] - ETA: 39:08 - loss: 0.0548 - acc: 0.7333\n",
      "step 05004: loss improved from inf to 0.05043, saving model to D:\\Clarifruit\\cherry_stem\\data\\unet_data\\training\\2019-10-13_18-57-55\\unet_cherry_stem.5004-0.05.hdf5\n",
      "1053/3000 [=========>....................] - ETA: 30:59 - loss: 0.0492 - acc: 0.7316\n",
      "step 10010: loss improved from 0.05043 to 0.03616, saving model to D:\\Clarifruit\\cherry_stem\\data\\unet_data\\training\\2019-10-13_18-57-55\\unet_cherry_stem.10010-0.04.hdf5\n",
      "1580/3000 [==============>...............] - ETA: 22:42 - loss: 0.0463 - acc: 0.7275\n",
      "steps 15016: loss did not improve from 0.03616\n",
      "2107/3000 [====================>.........] - ETA: 14:18 - loss: 0.0443 - acc: 0.7311\n",
      "steps 20022: loss did not improve from 0.03616\n",
      "2634/3000 [=========================>....] - ETA: 5:57 - loss: 0.0429 - acc: 0.7326\n",
      "steps 25028: loss did not improve from 0.03616\n",
      "2846/3000 [===========================>..] - ETA: 2:32 - loss: 0.0425 - acc: 0.7325"
     ]
    }
   ],
   "source": [
    "model.fit_unet()"
   ]
  },
  {
   "cell_type": "code",
   "execution_count": 5,
   "metadata": {},
   "outputs": [
    {
     "name": "stdout",
     "output_type": "stream",
     "text": [
      "2019-10-13 09:48:57,533-6d  INFO     work.unet.unet_model_functions: prediction on files from D:\\Clarifruit\\cherry_stem\\data\\raw_data\\images_orig\n",
      "2019-10-13 09:48:57,535-6d  INFO     work.unet.unet_model_functions: saving predictions to D:\\Clarifruit\\cherry_stem\\data\\unet_data\\training\\2019-10-13_03-58-48\\raw_pred\n"
     ]
    },
    {
     "data": {
      "text/plain": [
       "'D:\\\\Clarifruit\\\\cherry_stem\\\\data\\\\unet_data\\\\training\\\\2019-10-13_03-58-48\\\\raw_pred'"
      ]
     },
     "execution_count": 5,
     "metadata": {},
     "output_type": "execute_result"
    }
   ],
   "source": [
    "model.prediction(test_path,dest_path)\n"
   ]
  }
 ],
 "metadata": {
  "kernelspec": {
   "display_name": "Python 3",
   "language": "python",
   "name": "python3"
  },
  "language_info": {
   "codemirror_mode": {
    "name": "ipython",
    "version": 3
   },
   "file_extension": ".py",
   "mimetype": "text/x-python",
   "name": "python",
   "nbconvert_exporter": "python",
   "pygments_lexer": "ipython3",
   "version": "3.7.4"
  },
  "pycharm": {
   "stem_cell": {
    "cell_type": "raw",
    "metadata": {
     "collapsed": false
    },
    "source": []
   }
  }
 },
 "nbformat": 4,
 "nbformat_minor": 2
}
