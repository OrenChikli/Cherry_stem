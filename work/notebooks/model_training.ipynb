{
 "cells": [
  {
   "cell_type": "code",
   "execution_count": 1,
   "metadata": {
    "pycharm": {
     "is_executing": false
    }
   },
   "outputs": [
    {
     "name": "stderr",
     "output_type": "stream",
     "text": [
      "Using TensorFlow backend.\n"
     ]
    }
   ],
   "source": [
    "import sys\n",
    "sys.path.append(r\"D:\\Clarifruit\\cherry_stem\")\n",
    "\n",
    "from work.unet_main import *\n",
    "from work.unet import unet_model_functions\n",
    "\n",
    "from keras.callbacks import ReduceLROnPlateau,EarlyStopping"
   ]
  },
  {
   "cell_type": "code",
   "execution_count": 2,
   "metadata": {
    "pycharm": {
     "name": "#%%\n"
    }
   },
   "outputs": [],
   "source": [
    "train_path=r'D:\\Clarifruit\\cherry_stem\\data\\raw_data\\with_maskes'\n",
    "dest_path=r'D:\\Clarifruit\\cherry_stem\\data\\unet_data\\training'\n",
    "test_path=r'D:\\Clarifruit\\cherry_stem\\data\\raw_data\\images_orig'\n",
    "src_path=r'D:\\Clarifruit\\cherry_stem\\data\\unet_data\\training\\2019-10-13_18-57-55'\n",
    "weights_name =r'unet_cherry_stem.01-0.07.hdf5'\n"
   ]
  },
  {
   "cell_type": "code",
   "execution_count": 9,
   "metadata": {
    "pycharm": {
     "name": "#%%\n"
    }
   },
   "outputs": [],
   "source": [
    "params_dict = dict(\n",
    "\n",
    "    train_path=train_path,\n",
    "    save_path=dest_path,\n",
    "    x_folder_name='image',\n",
    "    y_folder_name='label',\n",
    "    weights_file_name='unet_cherry_stem.hdf5',\n",
    "\n",
    "    data_gen_args=dict(rotation_range=180,\n",
    "                       brightness_range=[0.2, 1.],\n",
    "                       shear_range=10,\n",
    "                       zoom_range=0.5,\n",
    "                       horizontal_flip=True,\n",
    "                       vertical_flip=True,\n",
    "                       channel_shift_range=5,\n",
    "                       fill_mode='nearest'),\n",
    "    seed=78,\n",
    "\n",
    "\n",
    "    optimizer='Adam',\n",
    "    optimizer_params=dict(lr=1e-5),\n",
    "    loss='binary_crossentropy',\n",
    "    metrics=['accuracy'],\n",
    "    pretrained_weights=None,\n",
    "\n",
    "    target_size=(256, 256),\n",
    "    color_mode='rgb',\n",
    "    \n",
    "    batch_size=10, # my GPU cant handel any more\n",
    "    \n",
    "    epochs=10,\n",
    "    steps_per_epoch=3000,\n",
    "    valdiation_split=0.2,\n",
    "    validation_steps=300,\n",
    "    \n",
    "    tensorboard_update_freq=1000,\n",
    "    weights_update_freq = 5000,\n",
    "    ontop_display_threshold=0.4)"
   ]
  },
  {
   "cell_type": "code",
   "execution_count": 10,
   "metadata": {},
   "outputs": [
    {
     "name": "stdout",
     "output_type": "stream",
     "text": [
      "2019-10-13 20:14:05,992-6d  INFO     work.unet.unet_model: <- unet model with input_size=(256, 256, 3)\n",
      "Found 152 images belonging to 1 classes.\n",
      "Found 38 images belonging to 1 classes.\n",
      "Found 152 images belonging to 1 classes.\n",
      "Found 38 images belonging to 1 classes.\n",
      "Found 152 images belonging to 1 classes.\n",
      "Found 38 images belonging to 1 classes.\n",
      "Found 152 images belonging to 1 classes.\n",
      "Found 38 images belonging to 1 classes.\n"
     ]
    }
   ],
   "source": [
    "model = unet_model_functions.ClarifruitUnet(**params_dict)\n",
    "keras_logs_path=model.set_model_for_train(params_dict=params_dict)"
   ]
  },
  {
   "cell_type": "code",
   "execution_count": 3,
   "metadata": {},
   "outputs": [
    {
     "name": "stdout",
     "output_type": "stream",
     "text": [
      "2019-10-13 20:15:03,053-6d  INFO     work.unet.unet_model: <- unet model with input_size=(256, 256, 3)\n",
      "2019-10-13 20:15:03,053-6d  INFO     work.unet.unet_model:  model loaded from pretraind_weights=D:\\Clarifruit\\cherry_stem\\data\\unet_data\\training\\2019-10-13_18-57-55\\unet_cherry_stem.5004-0.05.hdf5\n",
      "Found 152 images belonging to 1 classes.\n",
      "Found 38 images belonging to 1 classes.\n",
      "Found 152 images belonging to 1 classes.\n",
      "Found 38 images belonging to 1 classes.\n",
      "Found 152 images belonging to 1 classes.\n",
      "Found 38 images belonging to 1 classes.\n",
      "Found 152 images belonging to 1 classes.\n",
      "Found 38 images belonging to 1 classes.\n"
     ]
    }
   ],
   "source": [
    "# load model\n",
    "params_dict = unet_model_functions.ClarifruitUnet.load_model(src_path,weights_name)\n",
    "update_dict=dict(optimizer='Adam',\n",
    "                 optimizer_params=dict(lr=1e-5,decay=1e-6,amsgrad=True))\n",
    "params_dict.update(update_dict)\n",
    "model = unet_model_functions.ClarifruitUnet(**params_dict)\n",
    "keras_logs_path=model.set_model_for_train(params_dict=params_dict)"
   ]
  },
  {
   "cell_type": "code",
   "execution_count": 4,
   "metadata": {},
   "outputs": [
    {
     "name": "stdout",
     "output_type": "stream",
     "text": [
      "tensorboard --logdir=D:\\Clarifruit\\cherry_stem\\data\\unet_data\\training\\2019-10-13_18-57-55\\keras_logs\n"
     ]
    }
   ],
   "source": [
    "print(f\"tensorboard --logdir={keras_logs_path}\")"
   ]
  },
  {
   "cell_type": "code",
   "execution_count": null,
   "metadata": {},
   "outputs": [
    {
     "name": "stdout",
     "output_type": "stream",
     "text": [
      "Epoch 1/10\n",
      " 526/3000 [====>.........................] - ETA: 40:19 - loss: 0.0445 - acc: 0.7331\n",
      "step 05004: saving model to D:\\Clarifruit\\cherry_stem\\data\\unet_data\\training\\2019-10-13_18-57-55\\unet_cherry_stem.5004-0.05.hdf5\n",
      "1053/3000 [=========>....................] - ETA: 31:48 - loss: 0.0423 - acc: 0.7315\n",
      "step 10010: saving model to D:\\Clarifruit\\cherry_stem\\data\\unet_data\\training\\2019-10-13_18-57-55\\unet_cherry_stem.10010-0.03.hdf5\n",
      "1580/3000 [==============>...............] - ETA: 23:11 - loss: 0.0412 - acc: 0.7275\n",
      "step 15016: saving model to D:\\Clarifruit\\cherry_stem\\data\\unet_data\\training\\2019-10-13_18-57-55\\unet_cherry_stem.15016-0.04.hdf5\n",
      "2107/3000 [====================>.........] - ETA: 14:32 - loss: 0.0402 - acc: 0.7311\n",
      "step 20022: saving model to D:\\Clarifruit\\cherry_stem\\data\\unet_data\\training\\2019-10-13_18-57-55\\unet_cherry_stem.20022-0.05.hdf5\n",
      "2634/3000 [=========================>....] - ETA: 5:54 - loss: 0.0395 - acc: 0.7326\n",
      "step 25028: saving model to D:\\Clarifruit\\cherry_stem\\data\\unet_data\\training\\2019-10-13_18-57-55\\unet_cherry_stem.25028-0.04.hdf5\n",
      "3000/3000 [==============================] - 3023s 1s/step - loss: 0.0391 - acc: 0.7330 - val_loss: 0.0625 - val_acc: 0.8114\n",
      "\n",
      "Epoch 00001: saving model to D:\\Clarifruit\\cherry_stem\\data\\unet_data\\training\\2019-10-13_18-57-55\\unet_cherry_stem.01-0.06.hdf5\n",
      "Epoch 2/10\n",
      " 161/3000 [>.............................] - ETA: 44:01 - loss: 0.0388 - acc: 0.7359\n",
      "step 30034: saving model to D:\\Clarifruit\\cherry_stem\\data\\unet_data\\training\\2019-10-13_18-57-55\\unet_cherry_stem.30034-0.04.hdf5\n",
      " 688/3000 [=====>........................] - ETA: 36:02 - loss: 0.0368 - acc: 0.7275\n",
      "step 35040: saving model to D:\\Clarifruit\\cherry_stem\\data\\unet_data\\training\\2019-10-13_18-57-55\\unet_cherry_stem.35040-0.04.hdf5\n",
      "1215/3000 [===========>..................] - ETA: 28:00 - loss: 0.0362 - acc: 0.7319\n",
      "step 40046: saving model to D:\\Clarifruit\\cherry_stem\\data\\unet_data\\training\\2019-10-13_18-57-55\\unet_cherry_stem.40046-0.04.hdf5\n",
      "1742/3000 [================>.............] - ETA: 19:47 - loss: 0.0360 - acc: 0.7299\n",
      "step 45052: saving model to D:\\Clarifruit\\cherry_stem\\data\\unet_data\\training\\2019-10-13_18-57-55\\unet_cherry_stem.45052-0.02.hdf5\n",
      "2269/3000 [=====================>........] - ETA: 11:30 - loss: 0.0358 - acc: 0.7298\n",
      "step 50058: saving model to D:\\Clarifruit\\cherry_stem\\data\\unet_data\\training\\2019-10-13_18-57-55\\unet_cherry_stem.50058-0.03.hdf5\n",
      "2796/3000 [==========================>...] - ETA: 3:12 - loss: 0.0356 - acc: 0.7306\n",
      "step 55064: saving model to D:\\Clarifruit\\cherry_stem\\data\\unet_data\\training\\2019-10-13_18-57-55\\unet_cherry_stem.55064-0.03.hdf5\n",
      "3000/3000 [==============================] - 2974s 991ms/step - loss: 0.0355 - acc: 0.7305 - val_loss: 0.0550 - val_acc: 0.8231\n",
      "\n",
      "Epoch 00002: saving model to D:\\Clarifruit\\cherry_stem\\data\\unet_data\\training\\2019-10-13_18-57-55\\unet_cherry_stem.02-0.06.hdf5\n",
      "Epoch 3/10\n",
      " 323/3000 [==>...........................] - ETA: 43:18 - loss: 0.0351 - acc: 0.7392\n",
      "step 60070: saving model to D:\\Clarifruit\\cherry_stem\\data\\unet_data\\training\\2019-10-13_18-57-55\\unet_cherry_stem.60070-0.03.hdf5\n",
      " 850/3000 [=======>......................] - ETA: 34:38 - loss: 0.0342 - acc: 0.7393\n",
      "step 65076: saving model to D:\\Clarifruit\\cherry_stem\\data\\unet_data\\training\\2019-10-13_18-57-55\\unet_cherry_stem.65076-0.03.hdf5\n",
      "1377/3000 [============>.................] - ETA: 25:49 - loss: 0.0340 - acc: 0.7367\n",
      "step 70082: saving model to D:\\Clarifruit\\cherry_stem\\data\\unet_data\\training\\2019-10-13_18-57-55\\unet_cherry_stem.70082-0.04.hdf5\n",
      "1903/3000 [==================>...........] - ETA: 17:20 - loss: 0.0342 - acc: 0.7350\n",
      "step 75086: saving model to D:\\Clarifruit\\cherry_stem\\data\\unet_data\\training\\2019-10-13_18-57-55\\unet_cherry_stem.75086-0.04.hdf5\n",
      "2169/3000 [====================>.........] - ETA: 13:06 - loss: 0.0341 - acc: 0.7345"
     ]
    }
   ],
   "source": [
    "model.fit_unet()"
   ]
  },
  {
   "cell_type": "code",
   "execution_count": 5,
   "metadata": {},
   "outputs": [
    {
     "name": "stdout",
     "output_type": "stream",
     "text": [
      "2019-10-13 09:48:57,533-6d  INFO     work.unet.unet_model_functions: prediction on files from D:\\Clarifruit\\cherry_stem\\data\\raw_data\\images_orig\n",
      "2019-10-13 09:48:57,535-6d  INFO     work.unet.unet_model_functions: saving predictions to D:\\Clarifruit\\cherry_stem\\data\\unet_data\\training\\2019-10-13_03-58-48\\raw_pred\n"
     ]
    },
    {
     "data": {
      "text/plain": [
       "'D:\\\\Clarifruit\\\\cherry_stem\\\\data\\\\unet_data\\\\training\\\\2019-10-13_03-58-48\\\\raw_pred'"
      ]
     },
     "execution_count": 5,
     "metadata": {},
     "output_type": "execute_result"
    }
   ],
   "source": [
    "model.prediction(test_path,dest_path)\n"
   ]
  }
 ],
 "metadata": {
  "kernelspec": {
   "display_name": "Python 3",
   "language": "python",
   "name": "python3"
  },
  "language_info": {
   "codemirror_mode": {
    "name": "ipython",
    "version": 3
   },
   "file_extension": ".py",
   "mimetype": "text/x-python",
   "name": "python",
   "nbconvert_exporter": "python",
   "pygments_lexer": "ipython3",
   "version": "3.7.4"
  },
  "pycharm": {
   "stem_cell": {
    "cell_type": "raw",
    "metadata": {
     "collapsed": false
    },
    "source": []
   }
  }
 },
 "nbformat": 4,
 "nbformat_minor": 2
}
