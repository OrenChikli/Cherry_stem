{
 "cells": [
  {
   "cell_type": "code",
   "execution_count": 1,
   "metadata": {
    "pycharm": {
     "is_executing": false
    }
   },
   "outputs": [
    {
     "name": "stderr",
     "output_type": "stream",
     "text": [
      "Using TensorFlow backend.\n"
     ]
    }
   ],
   "source": [
    "import sys\n",
    "sys.path.append(r\"D:\\Clarifruit\\cherry_stem\")\n",
    "\n",
    "from work.unet import unet_model_functions"
   ]
  },
  {
   "cell_type": "code",
   "execution_count": 2,
   "metadata": {
    "pycharm": {
     "name": "#%%\n"
    }
   },
   "outputs": [],
   "source": [
    "train_path = r'D:\\Clarifruit\\cherry_stem\\data\\raw_data\\with_maskes'\n",
    "dest_path = r'D:\\Clarifruit\\cherry_stem\\data\\unet_data\\training'\n",
    "\n",
    "test_path = r'D:\\Clarifruit\\cherry_stem\\data\\raw_data\\images_orig'\n",
    "\n",
    "src_path = r'D:\\Clarifruit\\cherry_stem\\data\\unet_data\\training\\2019-10-14_23-59-57'\n",
    "steps = None"
   ]
  },
  {
   "cell_type": "code",
   "execution_count": 3,
   "metadata": {
    "pycharm": {
     "name": "#%%\n"
    }
   },
   "outputs": [
    {
     "name": "stdout",
     "output_type": "stream",
     "text": [
      "2019-10-15 03:17:11,654-6d  INFO     work.unet.unet_model: <- unet model with input_size=(256, 256, 1)\n"
     ]
    }
   ],
   "source": [
    "# from scratch\n",
    "params_dict = dict(\n",
    "\n",
    "    train_path=train_path,\n",
    "    save_path=dest_path,\n",
    "    x_folder_name='image',\n",
    "    y_folder_name='label',\n",
    "    weights_file_name='unet_cherry_stem',\n",
    "\n",
    "    data_gen_args=dict(rotation_range=180,\n",
    "                       brightness_range=[0.2, 1.],\n",
    "                       shear_range=5,\n",
    "                       zoom_range=0.5,\n",
    "                       horizontal_flip=True,\n",
    "                       vertical_flip=True,\n",
    "                       fill_mode='nearest'),\n",
    "    seed=78,\n",
    "\n",
    "    optimizer='Adam',\n",
    "    optimizer_params=dict(lr=1e-5),\n",
    "\n",
    "    loss='binary_crossentropy',\n",
    "    metrics=['accuracy'],\n",
    "\n",
    "    target_size=(256, 256),\n",
    "    color_mode='grayscale',\n",
    "\n",
    "    batch_size=10,  # my GPU cant handel any more\n",
    "\n",
    "    epochs=10,\n",
    "    steps_per_epoch=4000,\n",
    "    validation_split=0.2,\n",
    "    validation_steps=400,\n",
    "\n",
    "    tensorboard_update_freq=1000,\n",
    "    weights_update_freq=5000,\n",
    "    ontop_display_threshold=0.4)\n",
    "\n",
    "\n",
    "\n",
    "model = unet_model_functions.ClarifruitUnet(**params_dict)"
   ]
  },
  {
   "cell_type": "code",
   "execution_count": 4,
   "metadata": {},
   "outputs": [
    {
     "name": "stdout",
     "output_type": "stream",
     "text": [
      "2019-10-13 23:48:58,774-6d  INFO     work.unet.unet_model: <- unet model with input_size=(256, 256, 3)\n",
      "Found 152 images belonging to 1 classes.\n",
      "Found 38 images belonging to 1 classes.\n",
      "Found 152 images belonging to 1 classes.\n",
      "Found 38 images belonging to 1 classes.\n",
      "Found 152 images belonging to 1 classes.\n",
      "Found 38 images belonging to 1 classes.\n",
      "Found 152 images belonging to 1 classes.\n",
      "Found 38 images belonging to 1 classes.\n"
     ]
    }
   ],
   "source": [
    "#load model\n",
    "model = unet_model_functions.ClarifruitUnet.load_model(src_path,steps)\n",
    "\n",
    "update_dict = dict(epochs=2,\n",
    "                   steps_per_epoch=50,\n",
    "                   validation_split=0.2,\n",
    "                   validation_steps=50,\n",
    "\n",
    "                   tensorboard_update_freq=1000,\n",
    "                   weights_update_freq=100,\n",
    "                   ontop_display_threshold=0.4)\n",
    "\n",
    "\n",
    "model.update_model(**update_dict)"
   ]
  },
  {
   "cell_type": "code",
   "execution_count": 4,
   "metadata": {},
   "outputs": [
    {
     "name": "stdout",
     "output_type": "stream",
     "text": [
      "Found 152 images belonging to 1 classes.\n",
      "Found 38 images belonging to 1 classes.\n",
      "Found 152 images belonging to 1 classes.\n",
      "Found 38 images belonging to 1 classes.\n",
      "Found 152 images belonging to 1 classes.\n",
      "Found 38 images belonging to 1 classes.\n",
      "Found 152 images belonging to 1 classes.\n",
      "Found 38 images belonging to 1 classes.\n"
     ]
    }
   ],
   "source": [
    "keras_logs_path= model.set_model_for_train()"
   ]
  },
  {
   "cell_type": "code",
   "execution_count": 5,
   "metadata": {},
   "outputs": [
    {
     "name": "stdout",
     "output_type": "stream",
     "text": [
      "tensorboard --logdir=D:\\Clarifruit\\cherry_stem\\data\\unet_data\\training\\2019-10-15_03-17-17\\keras_logs\n"
     ]
    }
   ],
   "source": [
    "print(f\"tensorboard --logdir={keras_logs_path}\")"
   ]
  },
  {
   "cell_type": "code",
   "execution_count": null,
   "metadata": {
    "scrolled": true
   },
   "outputs": [
    {
     "name": "stdout",
     "output_type": "stream",
     "text": [
      "Epoch 1/10\n",
      "4000/4000 [==============================] - 4044s 1s/step - loss: 0.0422 - acc: 0.9670 - val_loss: 0.0520 - val_acc: 0.9620\n",
      "Epoch 2/10\n",
      "4000/4000 [==============================] - 4052s 1s/step - loss: 0.0311 - acc: 0.9670 - val_loss: 0.0542 - val_acc: 0.9620\n",
      "Epoch 3/10\n",
      "4000/4000 [==============================] - 4047s 1s/step - loss: 0.0293 - acc: 0.9670 - val_loss: 0.0450 - val_acc: 0.9623\n",
      "Epoch 4/10\n",
      "4000/4000 [==============================] - 4064s 1s/step - loss: 0.0279 - acc: 0.9669 - val_loss: 0.0446 - val_acc: 0.9619\n",
      "Epoch 5/10\n",
      "4000/4000 [==============================] - 4056s 1s/step - loss: 0.0269 - acc: 0.9669 - val_loss: 0.0406 - val_acc: 0.9619\n",
      "Epoch 6/10\n",
      "2565/4000 [==================>...........] - ETA: 23:44 - loss: 0.0263 - acc: 0.9669"
     ]
    }
   ],
   "source": [
    "model.fit_unet()"
   ]
  },
  {
   "cell_type": "code",
   "execution_count": 5,
   "metadata": {},
   "outputs": [
    {
     "name": "stdout",
     "output_type": "stream",
     "text": [
      "2019-10-13 09:48:57,533-6d  INFO     work.unet.unet_model_functions: prediction on files from D:\\Clarifruit\\cherry_stem\\data\\raw_data\\images_orig\n",
      "2019-10-13 09:48:57,535-6d  INFO     work.unet.unet_model_functions: saving predictions to D:\\Clarifruit\\cherry_stem\\data\\unet_data\\training\\2019-10-13_03-58-48\\raw_pred\n"
     ]
    },
    {
     "data": {
      "text/plain": [
       "'D:\\\\Clarifruit\\\\cherry_stem\\\\data\\\\unet_data\\\\training\\\\2019-10-13_03-58-48\\\\raw_pred'"
      ]
     },
     "execution_count": 5,
     "metadata": {},
     "output_type": "execute_result"
    }
   ],
   "source": [
    "model.prediction(test_path,dest_path)"
   ]
  }
 ],
 "metadata": {
  "kernelspec": {
   "display_name": "Python 3",
   "language": "python",
   "name": "python3"
  },
  "language_info": {
   "codemirror_mode": {
    "name": "ipython",
    "version": 3
   },
   "file_extension": ".py",
   "mimetype": "text/x-python",
   "name": "python",
   "nbconvert_exporter": "python",
   "pygments_lexer": "ipython3",
   "version": "3.7.4"
  },
  "pycharm": {
   "stem_cell": {
    "cell_type": "raw",
    "metadata": {
     "collapsed": false
    },
    "source": []
   }
  }
 },
 "nbformat": 4,
 "nbformat_minor": 2
}
