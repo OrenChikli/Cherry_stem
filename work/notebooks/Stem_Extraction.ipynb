{
 "cells": [
  {
   "cell_type": "code",
   "execution_count": null,
   "metadata": {
    "collapsed": true
   },
   "outputs": [],
   "source": [
    "import sys\n",
    "import os\n",
    "BASE_PATH = os.path.abspath('../..')\n",
    "sys.path.append(BASE_PATH)\n",
    "\n",
    "from work.stem_extraction import  stem_extract\n",
    "\n",
    "from work.auxiliary.logger_settings import configure_logger\n",
    "from work.auxiliary import data_functions\n",
    "import logging"
   ]
  },
  {
   "cell_type": "code",
   "execution_count": null,
   "metadata": {},
   "outputs": [],
   "source": [
    "LOG_PATH = os.path.join(BASE_PATH,'logs')\n",
    "DATA_PATH = os.path.join(BASE_PATH,'data') # create a data folder at the save root folder with the \"work\" folder\n",
    "\n",
    "log_path = data_functions.create_path(LOG_PATH, 'stem_extract')\n",
    "\n",
    "configure_logger(name=\"stem_extract\",\n",
    "                 console_level='INFO',\n",
    "                 file_level='INFO',\n",
    "                 out_path=log_path)\n",
    "\n",
    "logger = logging.getLogger(__name__)"
   ]
  },
  {
   "cell_type": "code",
   "execution_count": null,
   "metadata": {},
   "outputs": [],
   "source": [
    "\n",
    "src_path = os.path.join(DATA_PATH,\n",
    "                        r'annotation_output\\New_folder')\n",
    "\n",
    "img_path = os.path.join(DATA_PATH, r'raw_data\\images_orig')\n",
    "\n",
    "#mask_path = os.path.join(src_path, 'raw_pred')\n",
    "mask_path = os.path.join(DATA_PATH, r'\\raw_data\\with_maskes\\image')\n",
    "\n",
    "ground_path = os.path.join(DATA_PATH, r'classification_data\\from_all\\set1')\n",
    "\n",
    "threshold = 0.4\n",
    "is_binary_mask = True\n",
    "hist_type = 'bgr'\n",
    "object_type = 'ontop'\n",
    "\n",
    "save_flag = True\n",
    "\n",
    "#create ground truth\n",
    "ground_train_path = os.path.join(src_path, 'train')\n",
    "if not os.path.exists(ground_train_path):\n",
    "    data_functions.create_raw_test_train_ground_truth(ground_path,\n",
    "                                                      mask_path,\n",
    "                                                      src_path)\n",
    "\n",
    "create_test_train_obj(ground_path=ground_path,\n",
    "                      threshold=threshold,\n",
    "                      src_path=src_path,\n",
    "                      hist_type=hist_type,\n",
    "                      obj_type=object_type)\n",
    "\n",
    "create_object(img_path=img_path,\n",
    "              mask_path=mask_path,\n",
    "              save_path=src_path,\n",
    "              threshold=threshold,\n",
    "              hist_type=hist_type,\n",
    "              use_thres_flag=True,\n",
    "              obj_type=object_type,\n",
    "              is_binary_mask=is_binary_mask)\n",
    "\n"
   ]
  }
 ],
 "metadata": {
  "kernelspec": {
   "display_name": "Python 3",
   "language": "python",
   "name": "python3"
  },
  "language_info": {
   "codemirror_mode": {
    "name": "ipython",
    "version": 3
   },
   "file_extension": ".py",
   "mimetype": "text/x-python",
   "name": "python",
   "nbconvert_exporter": "python",
   "pygments_lexer": "ipython3",
   "version": "3.7.4"
  },
  "pycharm": {
   "stem_cell": {
    "cell_type": "raw",
    "metadata": {
     "collapsed": false
    },
    "source": []
   }
  }
 },
 "nbformat": 4,
 "nbformat_minor": 1
}
