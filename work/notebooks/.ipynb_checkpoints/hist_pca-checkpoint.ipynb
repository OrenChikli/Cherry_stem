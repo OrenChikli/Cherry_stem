{
 "cells": [
  {
   "cell_type": "code",
   "execution_count": 1,
   "metadata": {},
   "outputs": [],
   "source": [
    "from work.pca import *\n",
    "from sklearn.cluster import KMeans\n",
    "from sklearn import metrics\n",
    "from scipy.spatial.distance import cdist"
   ]
  },
  {
   "cell_type": "code",
   "execution_count": 2,
   "metadata": {
    "pycharm": {
     "name": "#%%\n"
    }
   },
   "outputs": [
    {
     "data": {
      "text/html": [
       "<div>\n",
       "<style scoped>\n",
       "    .dataframe tbody tr th:only-of-type {\n",
       "        vertical-align: middle;\n",
       "    }\n",
       "\n",
       "    .dataframe tbody tr th {\n",
       "        vertical-align: top;\n",
       "    }\n",
       "\n",
       "    .dataframe thead th {\n",
       "        text-align: right;\n",
       "    }\n",
       "</style>\n",
       "<table border=\"1\" class=\"dataframe\">\n",
       "  <thead>\n",
       "    <tr style=\"text-align: right;\">\n",
       "      <th></th>\n",
       "      <th>file_name</th>\n",
       "      <th>0</th>\n",
       "      <th>1</th>\n",
       "      <th>2</th>\n",
       "      <th>3</th>\n",
       "      <th>4</th>\n",
       "      <th>5</th>\n",
       "      <th>6</th>\n",
       "      <th>7</th>\n",
       "      <th>8</th>\n",
       "      <th>...</th>\n",
       "      <th>758</th>\n",
       "      <th>759</th>\n",
       "      <th>760</th>\n",
       "      <th>761</th>\n",
       "      <th>762</th>\n",
       "      <th>763</th>\n",
       "      <th>764</th>\n",
       "      <th>765</th>\n",
       "      <th>766</th>\n",
       "      <th>767</th>\n",
       "    </tr>\n",
       "  </thead>\n",
       "  <tbody>\n",
       "    <tr>\n",
       "      <td>0</td>\n",
       "      <td>38357-02789.png</td>\n",
       "      <td>0.070614</td>\n",
       "      <td>0.015590</td>\n",
       "      <td>0.011005</td>\n",
       "      <td>0.022927</td>\n",
       "      <td>0.022927</td>\n",
       "      <td>0.022927</td>\n",
       "      <td>0.028429</td>\n",
       "      <td>0.032097</td>\n",
       "      <td>0.032097</td>\n",
       "      <td>...</td>\n",
       "      <td>0.012155</td>\n",
       "      <td>0.013260</td>\n",
       "      <td>0.009945</td>\n",
       "      <td>0.008840</td>\n",
       "      <td>0.006630</td>\n",
       "      <td>0.005525</td>\n",
       "      <td>0.013260</td>\n",
       "      <td>0.011050</td>\n",
       "      <td>0.007735</td>\n",
       "      <td>0.064091</td>\n",
       "    </tr>\n",
       "    <tr>\n",
       "      <td>1</td>\n",
       "      <td>38357-12440.png</td>\n",
       "      <td>0.084137</td>\n",
       "      <td>0.027345</td>\n",
       "      <td>0.029448</td>\n",
       "      <td>0.035758</td>\n",
       "      <td>0.041017</td>\n",
       "      <td>0.033655</td>\n",
       "      <td>0.046275</td>\n",
       "      <td>0.041017</td>\n",
       "      <td>0.075723</td>\n",
       "      <td>...</td>\n",
       "      <td>0.001435</td>\n",
       "      <td>0.007177</td>\n",
       "      <td>0.007177</td>\n",
       "      <td>0.007177</td>\n",
       "      <td>0.007177</td>\n",
       "      <td>0.000000</td>\n",
       "      <td>0.004306</td>\n",
       "      <td>0.002871</td>\n",
       "      <td>0.001435</td>\n",
       "      <td>0.031577</td>\n",
       "    </tr>\n",
       "    <tr>\n",
       "      <td>2</td>\n",
       "      <td>38357-13707.png</td>\n",
       "      <td>0.098665</td>\n",
       "      <td>0.016209</td>\n",
       "      <td>0.019028</td>\n",
       "      <td>0.024666</td>\n",
       "      <td>0.026076</td>\n",
       "      <td>0.034533</td>\n",
       "      <td>0.028190</td>\n",
       "      <td>0.031009</td>\n",
       "      <td>0.048628</td>\n",
       "      <td>...</td>\n",
       "      <td>0.006315</td>\n",
       "      <td>0.009924</td>\n",
       "      <td>0.014434</td>\n",
       "      <td>0.009924</td>\n",
       "      <td>0.009021</td>\n",
       "      <td>0.010826</td>\n",
       "      <td>0.009021</td>\n",
       "      <td>0.006315</td>\n",
       "      <td>0.001804</td>\n",
       "      <td>0.046009</td>\n",
       "    </tr>\n",
       "    <tr>\n",
       "      <td>3</td>\n",
       "      <td>38357-27009.png</td>\n",
       "      <td>0.120237</td>\n",
       "      <td>0.023246</td>\n",
       "      <td>0.024047</td>\n",
       "      <td>0.024849</td>\n",
       "      <td>0.032063</td>\n",
       "      <td>0.033666</td>\n",
       "      <td>0.036071</td>\n",
       "      <td>0.053706</td>\n",
       "      <td>0.056110</td>\n",
       "      <td>...</td>\n",
       "      <td>0.005757</td>\n",
       "      <td>0.003838</td>\n",
       "      <td>0.007676</td>\n",
       "      <td>0.003838</td>\n",
       "      <td>0.004798</td>\n",
       "      <td>0.011514</td>\n",
       "      <td>0.006717</td>\n",
       "      <td>0.003838</td>\n",
       "      <td>0.005757</td>\n",
       "      <td>0.028786</td>\n",
       "    </tr>\n",
       "    <tr>\n",
       "      <td>4</td>\n",
       "      <td>38357-42160.png</td>\n",
       "      <td>0.061693</td>\n",
       "      <td>0.009871</td>\n",
       "      <td>0.016451</td>\n",
       "      <td>0.023855</td>\n",
       "      <td>0.018097</td>\n",
       "      <td>0.027145</td>\n",
       "      <td>0.032903</td>\n",
       "      <td>0.035371</td>\n",
       "      <td>0.035371</td>\n",
       "      <td>...</td>\n",
       "      <td>0.003998</td>\n",
       "      <td>0.001999</td>\n",
       "      <td>0.005997</td>\n",
       "      <td>0.005997</td>\n",
       "      <td>0.007995</td>\n",
       "      <td>0.005997</td>\n",
       "      <td>0.007995</td>\n",
       "      <td>0.003998</td>\n",
       "      <td>0.009994</td>\n",
       "      <td>0.035979</td>\n",
       "    </tr>\n",
       "  </tbody>\n",
       "</table>\n",
       "<p>5 rows × 769 columns</p>\n",
       "</div>"
      ],
      "text/plain": [
       "         file_name         0         1         2         3         4  \\\n",
       "0  38357-02789.png  0.070614  0.015590  0.011005  0.022927  0.022927   \n",
       "1  38357-12440.png  0.084137  0.027345  0.029448  0.035758  0.041017   \n",
       "2  38357-13707.png  0.098665  0.016209  0.019028  0.024666  0.026076   \n",
       "3  38357-27009.png  0.120237  0.023246  0.024047  0.024849  0.032063   \n",
       "4  38357-42160.png  0.061693  0.009871  0.016451  0.023855  0.018097   \n",
       "\n",
       "          5         6         7         8  ...       758       759       760  \\\n",
       "0  0.022927  0.028429  0.032097  0.032097  ...  0.012155  0.013260  0.009945   \n",
       "1  0.033655  0.046275  0.041017  0.075723  ...  0.001435  0.007177  0.007177   \n",
       "2  0.034533  0.028190  0.031009  0.048628  ...  0.006315  0.009924  0.014434   \n",
       "3  0.033666  0.036071  0.053706  0.056110  ...  0.005757  0.003838  0.007676   \n",
       "4  0.027145  0.032903  0.035371  0.035371  ...  0.003998  0.001999  0.005997   \n",
       "\n",
       "        761       762       763       764       765       766       767  \n",
       "0  0.008840  0.006630  0.005525  0.013260  0.011050  0.007735  0.064091  \n",
       "1  0.007177  0.007177  0.000000  0.004306  0.002871  0.001435  0.031577  \n",
       "2  0.009924  0.009021  0.010826  0.009021  0.006315  0.001804  0.046009  \n",
       "3  0.003838  0.004798  0.011514  0.006717  0.003838  0.005757  0.028786  \n",
       "4  0.005997  0.007995  0.005997  0.007995  0.003998  0.009994  0.035979  \n",
       "\n",
       "[5 rows x 769 columns]"
      ]
     },
     "execution_count": 2,
     "metadata": {},
     "output_type": "execute_result"
    }
   ],
   "source": [
    "src_path= r'D:\\Clarifruit\\cherry_stem\\data\\unet_data\\training\\2019-09-30_07-19-46\\thres_0.4\\bgr_histograms'\n",
    "df= load_npy_data(src_path)\n",
    "df.head()"
   ]
  },
  {
   "cell_type": "code",
   "execution_count": 3,
   "metadata": {},
   "outputs": [],
   "source": [
    "y=df['file_name']\n",
    "x=df.drop('file_name',axis=1)"
   ]
  },
  {
   "cell_type": "code",
   "execution_count": 29,
   "metadata": {},
   "outputs": [
    {
     "name": "stdout",
     "output_type": "stream",
     "text": [
      "\n",
      "Running PCA ...\n",
      "Explained variance: 0.8996\n",
      "Individual variance contributions:\n",
      "0.5489584799299946\n",
      "0.17431559521681314\n",
      "0.0545330594857132\n",
      "0.03498844557421794\n",
      "0.025385146400120122\n",
      "0.01899648669099447\n",
      "0.012533211449045442\n",
      "0.009784604906019099\n",
      "0.008626227680095027\n",
      "0.0064024435822695545\n",
      "0.005034988848178589\n"
     ]
    }
   ],
   "source": [
    "n_comp = 11\n",
    "# PCA\n",
    "print('\\nRunning PCA ...')\n",
    "pca = IncrementalPCA(n_components=n_comp)\n",
    "X_pca = pca.fit_transform(x)\n",
    "print('Explained variance: %.4f' % pca.explained_variance_ratio_.sum())\n",
    "\n",
    "print('Individual variance contributions:')\n",
    "for j in range(n_comp):\n",
    "    print(pca.explained_variance_ratio_[j])"
   ]
  },
  {
   "cell_type": "code",
   "execution_count": 41,
   "metadata": {},
   "outputs": [
    {
     "data": {
      "text/plain": [
       "array([-0.63036095,  0.81614371, -0.3904704 ,  0.02479626,  0.00469854,\n",
       "       -0.04357757,  0.22528503, -0.12581088,  0.14511087,  0.06665049,\n",
       "       -0.06112315])"
      ]
     },
     "execution_count": 41,
     "metadata": {},
     "output_type": "execute_result"
    }
   ],
   "source": [
    "X_pca[0]"
   ]
  },
  {
   "cell_type": "code",
   "execution_count": 5,
   "metadata": {},
   "outputs": [
    {
     "data": {
      "image/png": "[encoded data removed]",
      "text/plain": [
       "<Figure size 432x288 with 1 Axes>"
      ]
     },
     "metadata": {
      "needs_background": "light"
     },
     "output_type": "display_data"
    }
   ],
   "source": [
    "plt.plot()\n",
    "distortions = []\n",
    "K = range(1,10)\n",
    "for k in K:\n",
    "    kmeanModel = KMeans(n_clusters=k).fit(X_pca)\n",
    "    distortions.append(sum(np.min(cdist(X_pca, kmeanModel.cluster_centers_, 'euclidean'), axis=1)) / X_pca.shape[0])\n",
    "\n",
    "\n",
    "plt.plot(K, distortions, 'bx-')\n",
    "plt.xlabel('k')\n",
    "plt.ylabel('Distortion')\n",
    "plt.title('The Elbow Method showing the optimal k')\n",
    "plt.show()"
   ]
  },
  {
   "cell_type": "code",
   "execution_count": 30,
   "metadata": {},
   "outputs": [
    {
     "data": {
      "text/plain": [
       "array([0, 1, 2])"
      ]
     },
     "execution_count": 30,
     "metadata": {},
     "output_type": "execute_result"
    }
   ],
   "source": [
    "pred = KMeans(n_clusters=3).fit_predict(X_pca)\n",
    "np.unique(pred)"
   ]
  },
  {
   "cell_type": "code",
   "execution_count": 31,
   "metadata": {},
   "outputs": [
    {
     "data": {
      "text/plain": [
       "<matplotlib.collections.PathCollection at 0x1e6ea611f08>"
      ]
     },
     "execution_count": 31,
     "metadata": {},
     "output_type": "execute_result"
    },
    {
     "data": {
      "image/png": "[encoded data removed]",
      "text/plain": [
       "<Figure size 432x288 with 1 Axes>"
      ]
     },
     "metadata": {
      "needs_background": "light"
     },
     "output_type": "display_data"
    }
   ],
   "source": [
    "pca_plt_data = X_pca[:,:2]\n",
    "plt.figure()\n",
    "plt.scatter(pca_plt_data[:,0],pca_plt_data[:,1],c=pred)"
   ]
  },
  {
   "cell_type": "code",
   "execution_count": 36,
   "metadata": {},
   "outputs": [],
   "source": [
    "res = list(zip(y,pred))"
   ]
  },
  {
   "cell_type": "code",
   "execution_count": 37,
   "metadata": {},
   "outputs": [
    {
     "data": {
      "text/plain": [
       "('38357-02789.png', 2)"
      ]
     },
     "execution_count": 37,
     "metadata": {},
     "output_type": "execute_result"
    }
   ],
   "source": [
    "res[0]"
   ]
  },
  {
   "cell_type": "code",
   "execution_count": 38,
   "metadata": {},
   "outputs": [],
   "source": [
    "save_path=r'D:\\Clarifruit\\cherry_stem\\data\\unet_data\\training\\2019-09-30_07-19-46\\thres_0.4\\classification_preds'\n",
    "img_path = r'D:\\Clarifruit\\cherry_stem\\data\\raw_data\\images_orig'\n"
   ]
  },
  {
   "cell_type": "code",
   "execution_count": 39,
   "metadata": {},
   "outputs": [],
   "source": [
    "from work.stem_classifier.classify import get_pred_via_list\n",
    "\n",
    "\n",
    "get_pred_via_list(res,save_path, img_path,img_extention='.png.jpg')"
   ]
  },
  {
   "cell_type": "code",
   "execution_count": null,
   "metadata": {},
   "outputs": [],
   "source": []
  }
 ],
 "metadata": {
  "kernelspec": {
   "display_name": "Python 3",
   "language": "python",
   "name": "python3"
  },
  "language_info": {
   "codemirror_mode": {
    "name": "ipython",
    "version": 3
   },
   "file_extension": ".py",
   "mimetype": "text/x-python",
   "name": "python",
   "nbconvert_exporter": "python",
   "pygments_lexer": "ipython3",
   "version": "3.7.4"
  },
  "pycharm": {
   "stem_cell": {
    "cell_type": "raw",
    "metadata": {
     "collapsed": false
    },
    "source": []
   }
  }
 },
 "nbformat": 4,
 "nbformat_minor": 1
}
