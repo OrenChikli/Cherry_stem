{
 "cells": [
  {
   "cell_type": "code",
   "execution_count": 1,
   "metadata": {
    "pycharm": {
     "is_executing": false
    }
   },
   "outputs": [
    {
     "name": "stderr",
     "output_type": "stream",
     "text": [
      "Using TensorFlow backend.\n"
     ]
    }
   ],
   "source": [
    "import sys\n",
    "BASE_PATH = r\"D:\\Clarifruit\\cherry_stem\"\n",
    "sys.path.append(BASE_PATH)\n",
    "import os\n",
    "from work.unet_main import *"
   ]
  },
  {
   "cell_type": "code",
   "execution_count": 2,
   "metadata": {
    "pycharm": {
     "name": "#%%\n"
    }
   },
   "outputs": [],
   "source": [
    "train_path = os.path.join(BASE_PATH,r'data\\raw_data\\with_maskes')\n",
    "dest_path =  os.path.join(BASE_PATH,r'data\\unet_data\\training')\n",
    "test_path = os.path.join(BASE_PATH,r'data\\raw_data\\images_orig')\n",
    "\n",
    "\n",
    "src_path = os.path.join(BASE_PATH,r'data\\unet_data\\training\\2019-10-15_16-21-49')\n",
    "steps=None"
   ]
  },
  {
   "cell_type": "code",
   "execution_count": 3,
   "metadata": {
    "pycharm": {
     "name": "#%%\n"
    }
   },
   "outputs": [
    {
     "name": "stdout",
     "output_type": "stream",
     "text": [
      "2019-10-15 23:00:29,716-6d  INFO     work.unet.unet_model: <- unet model with input_size=(256, 256, 1)\n",
      "2019-10-15 23:00:30,071-6d  INFO     work.unet.unet_model: loading unet weights: D:\\Clarifruit\\cherry_stem\\data\\unet_data\\training\\2019-10-15_16-21-49\\unet_cherry_stem.hdf5\n"
     ]
    }
   ],
   "source": [
    "params_dict = dict(\n",
    "\n",
    "    train_path=train_path,\n",
    "    save_path=dest_path,\n",
    "    x_folder_name='image',\n",
    "    y_folder_name='label',\n",
    "    \n",
    "    weights_file_name='cherry_weights',\n",
    "    checkpoint_filename='cherry_ckpt',\n",
    "\n",
    "    pretrained_weights=r'D:\\Clarifruit\\cherry_stem\\data\\unet_data\\training\\2019-10-15_16-21-49\\unet_cherry_stem.hdf5',\n",
    "\n",
    "    data_gen_args=dict(rotation_range=180,\n",
    "                       brightness_range=[0.2, 1.],\n",
    "                       shear_range=5,\n",
    "                       zoom_range=0.5,\n",
    "                       horizontal_flip=True,\n",
    "                       vertical_flip=True,\n",
    "                       fill_mode='nearest'),\n",
    "    seed=78,\n",
    "\n",
    "    optimizer='Adam',\n",
    "    optimizer_params=dict(lr=1e-6,\n",
    "                          amsgrad=True),\n",
    "\n",
    "    loss='binary_crossentropy',\n",
    "    metrics=[],\n",
    "\n",
    "    target_size=(256, 256),\n",
    "    color_mode='grayscale',\n",
    "\n",
    "    batch_size=10,  # my GPU cant handel any more\n",
    "\n",
    "    epochs=30,\n",
    "    steps_per_epoch=50,\n",
    "    validation_split=0.2,\n",
    "    validation_steps=50,\n",
    "\n",
    "    tensorboard_update_freq=250,\n",
    "    weights_update_freq='epoch',\n",
    "    save_weights_only=True,\n",
    "    ontop_display_threshold=0.4,\n",
    "    callbacks=[ReduceLROnPlateau(monitor='loss', factor=0.8, patience=2, min_lr=1e-6)])\n",
    "\n",
    "\n",
    "model = unet_model_functions.ClarifruitUnet(**params_dict)"
   ]
  },
  {
   "cell_type": "code",
   "execution_count": 3,
   "metadata": {},
   "outputs": [
    {
     "name": "stdout",
     "output_type": "stream",
     "text": [
      "2019-10-15 17:48:54,671-6d  INFO     work.unet.unet_model: <- unet model with input_size=(256, 256, 1)\n",
      "2019-10-15 17:48:55,113-6d  INFO     work.unet.unet_model: loading unet weights: D:\\Clarifruit\\cherry_stem\\data\\unet_data\\training\\2019-10-15_16-21-49\\unet_cherry_stem.hdf5\n",
      "2019-10-15 17:49:13,328-6d  INFO     work.unet.unet_model: <- unet model with input_size=(256, 256, 1)\n",
      "2019-10-15 17:49:13,779-6d  INFO     work.unet.unet_model: loading unet weights: D:\\Clarifruit\\cherry_stem\\data\\unet_data\\training\\2019-10-15_16-21-49\\unet_cherry_stem.hdf5\n"
     ]
    }
   ],
   "source": [
    "#load exsisting model\n",
    "\n",
    "update_dict = dict(tensorboard_update_freq=5000,\n",
    "                   weights_update_freq=20000,\n",
    "                   optimizer_params=dict(lr=1e-6))\n",
    "\n",
    "\n",
    "model = unet_model_functions.ClarifruitUnet.load_model(src_path,steps)\n",
    "model.update_model(**update_dict)"
   ]
  },
  {
   "cell_type": "code",
   "execution_count": 4,
   "metadata": {
    "scrolled": true
   },
   "outputs": [
    {
     "name": "stdout",
     "output_type": "stream",
     "text": [
      "Found 152 images belonging to 1 classes.\n",
      "Found 38 images belonging to 1 classes.\n",
      "Found 152 images belonging to 1 classes.\n",
      "Found 38 images belonging to 1 classes.\n",
      "Found 152 images belonging to 1 classes.\n",
      "Found 38 images belonging to 1 classes.\n",
      "Found 152 images belonging to 1 classes.\n",
      "Found 38 images belonging to 1 classes.\n",
      "tensorboard --logdir=D:\\Clarifruit\\cherry_stem\\data\\unet_data\\training\\2019-10-15_23-00-37\\keras_logs\n"
     ]
    }
   ],
   "source": [
    "keras_logs_path=model.set_model_for_train()\n",
    "print(f\"tensorboard --logdir={keras_logs_path}\")"
   ]
  },
  {
   "cell_type": "code",
   "execution_count": 5,
   "metadata": {},
   "outputs": [
    {
     "name": "stdout",
     "output_type": "stream",
     "text": [
      "Epoch 1/30\n",
      "50/50 [==============================] - 76s 2s/step - loss: 0.0493 - val_loss: 0.0679\n",
      "\n",
      "Epoch 00001: saving model to D:\\Clarifruit\\cherry_stem\\data\\unet_data\\training\\2019-10-15_23-00-37\\cherry_weights.train_sess_01.steps_476.loss_0.0504.hdf5\n",
      "Epoch 2/30\n",
      "50/50 [==============================] - 63s 1s/step - loss: 0.0322 - val_loss: 0.0550\n",
      "\n",
      "Epoch 00002: saving model to D:\\Clarifruit\\cherry_stem\\data\\unet_data\\training\\2019-10-15_23-00-37\\cherry_weights.train_sess_01.steps_952.loss_0.0325.hdf5\n",
      "Epoch 3/30\n",
      "50/50 [==============================] - 62s 1s/step - loss: 0.0315 - val_loss: 0.0532\n",
      "\n",
      "Epoch 00003: saving model to D:\\Clarifruit\\cherry_stem\\data\\unet_data\\training\\2019-10-15_23-00-37\\cherry_weights.train_sess_01.steps_1428.loss_0.0313.hdf5\n",
      "Epoch 4/30\n",
      "50/50 [==============================] - 62s 1s/step - loss: 0.0303 - val_loss: 0.0519\n",
      "\n",
      "Epoch 00004: saving model to D:\\Clarifruit\\cherry_stem\\data\\unet_data\\training\\2019-10-15_23-00-37\\cherry_weights.train_sess_01.steps_1904.loss_0.0308.hdf5\n",
      "Epoch 5/30\n",
      "50/50 [==============================] - 62s 1s/step - loss: 0.0302 - val_loss: 0.0509\n",
      "\n",
      "Epoch 00005: saving model to D:\\Clarifruit\\cherry_stem\\data\\unet_data\\training\\2019-10-15_23-00-37\\cherry_weights.train_sess_01.steps_2380.loss_0.0300.hdf5\n",
      "Epoch 6/30\n",
      "50/50 [==============================] - 62s 1s/step - loss: 0.0287 - val_loss: 0.0486\n",
      "\n",
      "Epoch 00006: saving model to D:\\Clarifruit\\cherry_stem\\data\\unet_data\\training\\2019-10-15_23-00-37\\cherry_weights.train_sess_01.steps_2856.loss_0.0288.hdf5\n",
      "Epoch 7/30\n",
      "50/50 [==============================] - 62s 1s/step - loss: 0.0279 - val_loss: 0.0487\n",
      "\n",
      "Epoch 00007: saving model to D:\\Clarifruit\\cherry_stem\\data\\unet_data\\training\\2019-10-15_23-00-37\\cherry_weights.train_sess_01.steps_3332.loss_0.0280.hdf5\n",
      "Epoch 8/30\n",
      "50/50 [==============================] - 61s 1s/step - loss: 0.0279 - val_loss: 0.0484\n",
      "\n",
      "Epoch 00008: saving model to D:\\Clarifruit\\cherry_stem\\data\\unet_data\\training\\2019-10-15_23-00-37\\cherry_weights.train_sess_01.steps_3800.loss_0.0285.hdf5\n",
      "Epoch 9/30\n",
      "50/50 [==============================] - 62s 1s/step - loss: 0.0269 - val_loss: 0.0486\n",
      "\n",
      "Epoch 00009: saving model to D:\\Clarifruit\\cherry_stem\\data\\unet_data\\training\\2019-10-15_23-00-37\\cherry_weights.train_sess_01.steps_4276.loss_0.0272.hdf5\n",
      "Epoch 10/30\n",
      "50/50 [==============================] - 62s 1s/step - loss: 0.0277 - val_loss: 0.0462\n",
      "\n",
      "Epoch 00010: saving model to D:\\Clarifruit\\cherry_stem\\data\\unet_data\\training\\2019-10-15_23-00-37\\cherry_weights.train_sess_01.steps_4752.loss_0.0278.hdf5\n",
      "Epoch 11/30\n",
      "50/50 [==============================] - 62s 1s/step - loss: 0.0276 - val_loss: 0.0495\n",
      "\n",
      "Epoch 00011: saving model to D:\\Clarifruit\\cherry_stem\\data\\unet_data\\training\\2019-10-15_23-00-37\\cherry_weights.train_sess_01.steps_5228.loss_0.0273.hdf5\n",
      "Epoch 12/30\n",
      "50/50 [==============================] - 63s 1s/step - loss: 0.0269 - val_loss: 0.0467\n",
      "\n",
      "Epoch 00012: saving model to D:\\Clarifruit\\cherry_stem\\data\\unet_data\\training\\2019-10-15_23-00-37\\cherry_weights.train_sess_01.steps_5704.loss_0.0273.hdf5\n",
      "Epoch 13/30\n",
      "50/50 [==============================] - 63s 1s/step - loss: 0.0266 - val_loss: 0.0467\n",
      "\n",
      "Epoch 00013: saving model to D:\\Clarifruit\\cherry_stem\\data\\unet_data\\training\\2019-10-15_23-00-37\\cherry_weights.train_sess_01.steps_6180.loss_0.0267.hdf5\n",
      "Epoch 14/30\n",
      "50/50 [==============================] - 64s 1s/step - loss: 0.0258 - val_loss: 0.0461\n",
      "\n",
      "Epoch 00014: saving model to D:\\Clarifruit\\cherry_stem\\data\\unet_data\\training\\2019-10-15_23-00-37\\cherry_weights.train_sess_01.steps_6656.loss_0.0262.hdf5\n",
      "Epoch 15/30\n",
      "50/50 [==============================] - 64s 1s/step - loss: 0.0269 - val_loss: 0.0450\n",
      "\n",
      "Epoch 00015: saving model to D:\\Clarifruit\\cherry_stem\\data\\unet_data\\training\\2019-10-15_23-00-37\\cherry_weights.train_sess_01.steps_7132.loss_0.0271.hdf5\n",
      "Epoch 16/30\n",
      "50/50 [==============================] - 63s 1s/step - loss: 0.0273 - val_loss: 0.0451\n",
      "\n",
      "Epoch 00016: saving model to D:\\Clarifruit\\cherry_stem\\data\\unet_data\\training\\2019-10-15_23-00-37\\cherry_weights.train_sess_01.steps_7600.loss_0.0266.hdf5\n",
      "Epoch 17/30\n",
      "50/50 [==============================] - 63s 1s/step - loss: 0.0274 - val_loss: 0.0444\n",
      "\n",
      "Epoch 00017: saving model to D:\\Clarifruit\\cherry_stem\\data\\unet_data\\training\\2019-10-15_23-00-37\\cherry_weights.train_sess_01.steps_8076.loss_0.0267.hdf5\n",
      "Epoch 18/30\n",
      "50/50 [==============================] - 64s 1s/step - loss: 0.0256 - val_loss: 0.0460\n",
      "\n",
      "Epoch 00018: saving model to D:\\Clarifruit\\cherry_stem\\data\\unet_data\\training\\2019-10-15_23-00-37\\cherry_weights.train_sess_01.steps_8552.loss_0.0260.hdf5\n",
      "Epoch 19/30\n",
      "50/50 [==============================] - 64s 1s/step - loss: 0.0266 - val_loss: 0.0452\n",
      "\n",
      "Epoch 00019: saving model to D:\\Clarifruit\\cherry_stem\\data\\unet_data\\training\\2019-10-15_23-00-37\\cherry_weights.train_sess_01.steps_9028.loss_0.0264.hdf5\n",
      "Epoch 20/30\n",
      "50/50 [==============================] - 65s 1s/step - loss: 0.0259 - val_loss: 0.0442\n",
      "\n",
      "Epoch 00020: saving model to D:\\Clarifruit\\cherry_stem\\data\\unet_data\\training\\2019-10-15_23-00-37\\cherry_weights.train_sess_01.steps_9504.loss_0.0259.hdf5\n",
      "Epoch 21/30\n",
      "50/50 [==============================] - 64s 1s/step - loss: 0.0270 - val_loss: 0.0466\n",
      "\n",
      "Epoch 00021: saving model to D:\\Clarifruit\\cherry_stem\\data\\unet_data\\training\\2019-10-15_23-00-37\\cherry_weights.train_sess_01.steps_9980.loss_0.0270.hdf5\n",
      "Epoch 22/30\n",
      "50/50 [==============================] - 64s 1s/step - loss: 0.0271 - val_loss: 0.0448\n",
      "\n",
      "Epoch 00022: saving model to D:\\Clarifruit\\cherry_stem\\data\\unet_data\\training\\2019-10-15_23-00-37\\cherry_weights.train_sess_01.steps_10456.loss_0.0272.hdf5\n",
      "Epoch 23/30\n",
      "50/50 [==============================] - 64s 1s/step - loss: 0.0264 - val_loss: 0.0442\n",
      "\n",
      "Epoch 00023: saving model to D:\\Clarifruit\\cherry_stem\\data\\unet_data\\training\\2019-10-15_23-00-37\\cherry_weights.train_sess_01.steps_10932.loss_0.0263.hdf5\n",
      "Epoch 24/30\n",
      "50/50 [==============================] - 63s 1s/step - loss: 0.0272 - val_loss: 0.0443\n",
      "\n",
      "Epoch 00024: saving model to D:\\Clarifruit\\cherry_stem\\data\\unet_data\\training\\2019-10-15_23-00-37\\cherry_weights.train_sess_01.steps_11400.loss_0.0266.hdf5\n",
      "Epoch 25/30\n",
      "50/50 [==============================] - 64s 1s/step - loss: 0.0261 - val_loss: 0.0430\n",
      "\n",
      "Epoch 00025: saving model to D:\\Clarifruit\\cherry_stem\\data\\unet_data\\training\\2019-10-15_23-00-37\\cherry_weights.train_sess_01.steps_11876.loss_0.0263.hdf5\n",
      "Epoch 26/30\n",
      "50/50 [==============================] - 65s 1s/step - loss: 0.0262 - val_loss: 0.0461\n",
      "\n",
      "Epoch 00026: saving model to D:\\Clarifruit\\cherry_stem\\data\\unet_data\\training\\2019-10-15_23-00-37\\cherry_weights.train_sess_01.steps_12352.loss_0.0261.hdf5\n",
      "Epoch 27/30\n",
      "50/50 [==============================] - 64s 1s/step - loss: 0.0257 - val_loss: 0.0449\n",
      "\n",
      "Epoch 00027: saving model to D:\\Clarifruit\\cherry_stem\\data\\unet_data\\training\\2019-10-15_23-00-37\\cherry_weights.train_sess_01.steps_12828.loss_0.0254.hdf5\n",
      "Epoch 28/30\n",
      "50/50 [==============================] - 65s 1s/step - loss: 0.0267 - val_loss: 0.0440\n",
      "\n",
      "Epoch 00028: saving model to D:\\Clarifruit\\cherry_stem\\data\\unet_data\\training\\2019-10-15_23-00-37\\cherry_weights.train_sess_01.steps_13304.loss_0.0262.hdf5\n",
      "Epoch 29/30\n",
      "50/50 [==============================] - 64s 1s/step - loss: 0.0257 - val_loss: 0.0448\n",
      "\n",
      "Epoch 00029: saving model to D:\\Clarifruit\\cherry_stem\\data\\unet_data\\training\\2019-10-15_23-00-37\\cherry_weights.train_sess_01.steps_13780.loss_0.0255.hdf5\n",
      "Epoch 30/30\n",
      "50/50 [==============================] - 65s 1s/step - loss: 0.0258 - val_loss: 0.0429\n",
      "\n",
      "Epoch 00030: saving model to D:\\Clarifruit\\cherry_stem\\data\\unet_data\\training\\2019-10-15_23-00-37\\cherry_weights.train_sess_01.steps_14256.loss_0.0258.hdf5\n"
     ]
    }
   ],
   "source": [
    "model.fit_unet()"
   ]
  },
  {
   "cell_type": "code",
   "execution_count": 5,
   "metadata": {},
   "outputs": [
    {
     "name": "stdout",
     "output_type": "stream",
     "text": [
      "Epoch 1/30\n",
      "40/40 [==============================] - 63s 2s/step - loss: 0.0516 - val_loss: 0.0743\n",
      "\n",
      "Epoch 00001: saving model to D:\\Clarifruit\\cherry_stem\\data\\unet_data\\training\\2019-10-15_22-46-55\\cherry_ckpt.train_sess_01.steps_384.loss_0.0527.hdf5\n",
      "Epoch 2/30\n",
      "40/40 [==============================] - 48s 1s/step - loss: 0.0326 - val_loss: 0.0560\n",
      "\n",
      "Epoch 00002: saving model to D:\\Clarifruit\\cherry_stem\\data\\unet_data\\training\\2019-10-15_22-46-55\\cherry_ckpt.train_sess_01.steps_760.loss_0.0329.hdf5\n",
      "Epoch 3/30\n",
      "40/40 [==============================] - 50s 1s/step - loss: 0.0315 - val_loss: 0.0540\n",
      "\n",
      "Epoch 00003: saving model to D:\\Clarifruit\\cherry_stem\\data\\unet_data\\training\\2019-10-15_22-46-55\\cherry_ckpt.train_sess_01.steps_1144.loss_0.0319.hdf5\n",
      "Epoch 4/30\n",
      "40/40 [==============================] - 50s 1s/step - loss: 0.0316 - val_loss: 0.0530\n",
      "\n",
      "Epoch 00004: saving model to D:\\Clarifruit\\cherry_stem\\data\\unet_data\\training\\2019-10-15_22-46-55\\cherry_ckpt.train_sess_01.steps_1520.loss_0.0311.hdf5\n",
      "Epoch 5/30\n",
      "40/40 [==============================] - 50s 1s/step - loss: 0.0298 - val_loss: 0.0513\n",
      "\n",
      "Epoch 00005: saving model to D:\\Clarifruit\\cherry_stem\\data\\unet_data\\training\\2019-10-15_22-46-55\\cherry_ckpt.train_sess_01.steps_1904.loss_0.0303.hdf5\n",
      "Epoch 6/30\n",
      "40/40 [==============================] - 49s 1s/step - loss: 0.0301 - val_loss: 0.0503\n",
      "\n",
      "Epoch 00006: saving model to D:\\Clarifruit\\cherry_stem\\data\\unet_data\\training\\2019-10-15_22-46-55\\cherry_ckpt.train_sess_01.steps_2280.loss_0.0299.hdf5\n",
      "Epoch 7/30\n",
      "40/40 [==============================] - 50s 1s/step - loss: 0.0294 - val_loss: 0.0510\n",
      "\n",
      "Epoch 00007: saving model to D:\\Clarifruit\\cherry_stem\\data\\unet_data\\training\\2019-10-15_22-46-55\\cherry_ckpt.train_sess_01.steps_2664.loss_0.0300.hdf5\n",
      "Epoch 8/30\n",
      "40/40 [==============================] - 49s 1s/step - loss: 0.0283 - val_loss: 0.0466\n",
      "\n",
      "Epoch 00008: saving model to D:\\Clarifruit\\cherry_stem\\data\\unet_data\\training\\2019-10-15_22-46-55\\cherry_ckpt.train_sess_01.steps_3040.loss_0.0279.hdf5\n",
      "Epoch 9/30\n",
      "40/40 [==============================] - 50s 1s/step - loss: 0.0271 - val_loss: 0.0497\n",
      "\n",
      "Epoch 00009: saving model to D:\\Clarifruit\\cherry_stem\\data\\unet_data\\training\\2019-10-15_22-46-55\\cherry_ckpt.train_sess_01.steps_3424.loss_0.0274.hdf5\n",
      "Epoch 10/30\n",
      "40/40 [==============================] - 49s 1s/step - loss: 0.0284 - val_loss: 0.0483\n",
      "\n",
      "Epoch 00010: saving model to D:\\Clarifruit\\cherry_stem\\data\\unet_data\\training\\2019-10-15_22-46-55\\cherry_ckpt.train_sess_01.steps_3800.loss_0.0289.hdf5\n",
      "Epoch 11/30\n",
      "40/40 [==============================] - 50s 1s/step - loss: 0.0274 - val_loss: 0.0490\n",
      "\n",
      "Epoch 00011: saving model to D:\\Clarifruit\\cherry_stem\\data\\unet_data\\training\\2019-10-15_22-46-55\\cherry_ckpt.train_sess_01.steps_4184.loss_0.0279.hdf5\n",
      "Epoch 12/30\n",
      "40/40 [==============================] - 49s 1s/step - loss: 0.0270 - val_loss: 0.0466\n",
      "\n",
      "Epoch 00012: saving model to D:\\Clarifruit\\cherry_stem\\data\\unet_data\\training\\2019-10-15_22-46-55\\cherry_ckpt.train_sess_01.steps_4560.loss_0.0270.hdf5\n",
      "Epoch 13/30\n",
      "40/40 [==============================] - 50s 1s/step - loss: 0.0271 - val_loss: 0.0475\n",
      "\n",
      "Epoch 00013: saving model to D:\\Clarifruit\\cherry_stem\\data\\unet_data\\training\\2019-10-15_22-46-55\\cherry_ckpt.train_sess_01.steps_4944.loss_0.0269.hdf5\n",
      "Epoch 14/30\n",
      "10/40 [======>.......................] - ETA: 26s - loss: 0.0286"
     ]
    },
    {
     "ename": "KeyboardInterrupt",
     "evalue": "",
     "output_type": "error",
     "traceback": [
      "\u001b[1;31m---------------------------------------------------------------------------\u001b[0m",
      "\u001b[1;31mKeyboardInterrupt\u001b[0m                         Traceback (most recent call last)",
      "\u001b[1;32m<ipython-input-5-4cd46982940f>\u001b[0m in \u001b[0;36m<module>\u001b[1;34m\u001b[0m\n\u001b[1;32m----> 1\u001b[1;33m \u001b[0mmodel\u001b[0m\u001b[1;33m.\u001b[0m\u001b[0mfit_unet\u001b[0m\u001b[1;33m(\u001b[0m\u001b[1;33m)\u001b[0m\u001b[1;33m\u001b[0m\u001b[1;33m\u001b[0m\u001b[0m\n\u001b[0m",
      "\u001b[1;32mD:\\Clarifruit\\cherry_stem\\work\\unet\\unet_model_functions.py\u001b[0m in \u001b[0;36mfit_unet\u001b[1;34m(self)\u001b[0m\n\u001b[0;32m    312\u001b[0m             \u001b[0mepochs\u001b[0m\u001b[1;33m=\u001b[0m\u001b[0mself\u001b[0m\u001b[1;33m.\u001b[0m\u001b[0mepochs\u001b[0m\u001b[1;33m,\u001b[0m\u001b[1;33m\u001b[0m\u001b[1;33m\u001b[0m\u001b[0m\n\u001b[0;32m    313\u001b[0m             \u001b[0mcallbacks\u001b[0m\u001b[1;33m=\u001b[0m\u001b[0mself\u001b[0m\u001b[1;33m.\u001b[0m\u001b[0mcallbacks\u001b[0m\u001b[1;33m,\u001b[0m\u001b[1;33m\u001b[0m\u001b[1;33m\u001b[0m\u001b[0m\n\u001b[1;32m--> 314\u001b[1;33m             verbose=1)\n\u001b[0m\u001b[0;32m    315\u001b[0m         \u001b[0mlogger\u001b[0m\u001b[1;33m.\u001b[0m\u001b[0mdebug\u001b[0m\u001b[1;33m(\u001b[0m\u001b[1;34m\" -> fit_unet\"\u001b[0m\u001b[1;33m)\u001b[0m\u001b[1;33m\u001b[0m\u001b[1;33m\u001b[0m\u001b[0m\n\u001b[0;32m    316\u001b[0m \u001b[1;33m\u001b[0m\u001b[0m\n",
      "\u001b[1;32md:\\clarifruit\\cherry_stem\\cherry_venv\\lib\\site-packages\\keras\\legacy\\interfaces.py\u001b[0m in \u001b[0;36mwrapper\u001b[1;34m(*args, **kwargs)\u001b[0m\n\u001b[0;32m     89\u001b[0m                 warnings.warn('Update your `' + object_name + '` call to the ' +\n\u001b[0;32m     90\u001b[0m                               'Keras 2 API: ' + signature, stacklevel=2)\n\u001b[1;32m---> 91\u001b[1;33m             \u001b[1;32mreturn\u001b[0m \u001b[0mfunc\u001b[0m\u001b[1;33m(\u001b[0m\u001b[1;33m*\u001b[0m\u001b[0margs\u001b[0m\u001b[1;33m,\u001b[0m \u001b[1;33m**\u001b[0m\u001b[0mkwargs\u001b[0m\u001b[1;33m)\u001b[0m\u001b[1;33m\u001b[0m\u001b[1;33m\u001b[0m\u001b[0m\n\u001b[0m\u001b[0;32m     92\u001b[0m         \u001b[0mwrapper\u001b[0m\u001b[1;33m.\u001b[0m\u001b[0m_original_function\u001b[0m \u001b[1;33m=\u001b[0m \u001b[0mfunc\u001b[0m\u001b[1;33m\u001b[0m\u001b[1;33m\u001b[0m\u001b[0m\n\u001b[0;32m     93\u001b[0m         \u001b[1;32mreturn\u001b[0m \u001b[0mwrapper\u001b[0m\u001b[1;33m\u001b[0m\u001b[1;33m\u001b[0m\u001b[0m\n",
      "\u001b[1;32md:\\clarifruit\\cherry_stem\\cherry_venv\\lib\\site-packages\\keras\\engine\\training.py\u001b[0m in \u001b[0;36mfit_generator\u001b[1;34m(self, generator, steps_per_epoch, epochs, verbose, callbacks, validation_data, validation_steps, validation_freq, class_weight, max_queue_size, workers, use_multiprocessing, shuffle, initial_epoch)\u001b[0m\n\u001b[0;32m   1656\u001b[0m             \u001b[0muse_multiprocessing\u001b[0m\u001b[1;33m=\u001b[0m\u001b[0muse_multiprocessing\u001b[0m\u001b[1;33m,\u001b[0m\u001b[1;33m\u001b[0m\u001b[1;33m\u001b[0m\u001b[0m\n\u001b[0;32m   1657\u001b[0m             \u001b[0mshuffle\u001b[0m\u001b[1;33m=\u001b[0m\u001b[0mshuffle\u001b[0m\u001b[1;33m,\u001b[0m\u001b[1;33m\u001b[0m\u001b[1;33m\u001b[0m\u001b[0m\n\u001b[1;32m-> 1658\u001b[1;33m             initial_epoch=initial_epoch)\n\u001b[0m\u001b[0;32m   1659\u001b[0m \u001b[1;33m\u001b[0m\u001b[0m\n\u001b[0;32m   1660\u001b[0m     \u001b[1;33m@\u001b[0m\u001b[0minterfaces\u001b[0m\u001b[1;33m.\u001b[0m\u001b[0mlegacy_generator_methods_support\u001b[0m\u001b[1;33m\u001b[0m\u001b[1;33m\u001b[0m\u001b[0m\n",
      "\u001b[1;32md:\\clarifruit\\cherry_stem\\cherry_venv\\lib\\site-packages\\keras\\engine\\training_generator.py\u001b[0m in \u001b[0;36mfit_generator\u001b[1;34m(model, generator, steps_per_epoch, epochs, verbose, callbacks, validation_data, validation_steps, validation_freq, class_weight, max_queue_size, workers, use_multiprocessing, shuffle, initial_epoch)\u001b[0m\n\u001b[0;32m    213\u001b[0m                 outs = model.train_on_batch(x, y,\n\u001b[0;32m    214\u001b[0m                                             \u001b[0msample_weight\u001b[0m\u001b[1;33m=\u001b[0m\u001b[0msample_weight\u001b[0m\u001b[1;33m,\u001b[0m\u001b[1;33m\u001b[0m\u001b[1;33m\u001b[0m\u001b[0m\n\u001b[1;32m--> 215\u001b[1;33m                                             class_weight=class_weight)\n\u001b[0m\u001b[0;32m    216\u001b[0m \u001b[1;33m\u001b[0m\u001b[0m\n\u001b[0;32m    217\u001b[0m                 \u001b[0mouts\u001b[0m \u001b[1;33m=\u001b[0m \u001b[0mto_list\u001b[0m\u001b[1;33m(\u001b[0m\u001b[0mouts\u001b[0m\u001b[1;33m)\u001b[0m\u001b[1;33m\u001b[0m\u001b[1;33m\u001b[0m\u001b[0m\n",
      "\u001b[1;32md:\\clarifruit\\cherry_stem\\cherry_venv\\lib\\site-packages\\keras\\engine\\training.py\u001b[0m in \u001b[0;36mtrain_on_batch\u001b[1;34m(self, x, y, sample_weight, class_weight)\u001b[0m\n\u001b[0;32m   1447\u001b[0m             \u001b[0mins\u001b[0m \u001b[1;33m=\u001b[0m \u001b[0mx\u001b[0m \u001b[1;33m+\u001b[0m \u001b[0my\u001b[0m \u001b[1;33m+\u001b[0m \u001b[0msample_weights\u001b[0m\u001b[1;33m\u001b[0m\u001b[1;33m\u001b[0m\u001b[0m\n\u001b[0;32m   1448\u001b[0m         \u001b[0mself\u001b[0m\u001b[1;33m.\u001b[0m\u001b[0m_make_train_function\u001b[0m\u001b[1;33m(\u001b[0m\u001b[1;33m)\u001b[0m\u001b[1;33m\u001b[0m\u001b[1;33m\u001b[0m\u001b[0m\n\u001b[1;32m-> 1449\u001b[1;33m         \u001b[0moutputs\u001b[0m \u001b[1;33m=\u001b[0m \u001b[0mself\u001b[0m\u001b[1;33m.\u001b[0m\u001b[0mtrain_function\u001b[0m\u001b[1;33m(\u001b[0m\u001b[0mins\u001b[0m\u001b[1;33m)\u001b[0m\u001b[1;33m\u001b[0m\u001b[1;33m\u001b[0m\u001b[0m\n\u001b[0m\u001b[0;32m   1450\u001b[0m         \u001b[1;32mreturn\u001b[0m \u001b[0munpack_singleton\u001b[0m\u001b[1;33m(\u001b[0m\u001b[0moutputs\u001b[0m\u001b[1;33m)\u001b[0m\u001b[1;33m\u001b[0m\u001b[1;33m\u001b[0m\u001b[0m\n\u001b[0;32m   1451\u001b[0m \u001b[1;33m\u001b[0m\u001b[0m\n",
      "\u001b[1;32md:\\clarifruit\\cherry_stem\\cherry_venv\\lib\\site-packages\\keras\\backend\\tensorflow_backend.py\u001b[0m in \u001b[0;36m__call__\u001b[1;34m(self, inputs)\u001b[0m\n\u001b[0;32m   2977\u001b[0m                     \u001b[1;32mreturn\u001b[0m \u001b[0mself\u001b[0m\u001b[1;33m.\u001b[0m\u001b[0m_legacy_call\u001b[0m\u001b[1;33m(\u001b[0m\u001b[0minputs\u001b[0m\u001b[1;33m)\u001b[0m\u001b[1;33m\u001b[0m\u001b[1;33m\u001b[0m\u001b[0m\n\u001b[0;32m   2978\u001b[0m \u001b[1;33m\u001b[0m\u001b[0m\n\u001b[1;32m-> 2979\u001b[1;33m             \u001b[1;32mreturn\u001b[0m \u001b[0mself\u001b[0m\u001b[1;33m.\u001b[0m\u001b[0m_call\u001b[0m\u001b[1;33m(\u001b[0m\u001b[0minputs\u001b[0m\u001b[1;33m)\u001b[0m\u001b[1;33m\u001b[0m\u001b[1;33m\u001b[0m\u001b[0m\n\u001b[0m\u001b[0;32m   2980\u001b[0m         \u001b[1;32melse\u001b[0m\u001b[1;33m:\u001b[0m\u001b[1;33m\u001b[0m\u001b[1;33m\u001b[0m\u001b[0m\n\u001b[0;32m   2981\u001b[0m             \u001b[1;32mif\u001b[0m \u001b[0mpy_any\u001b[0m\u001b[1;33m(\u001b[0m\u001b[0mis_tensor\u001b[0m\u001b[1;33m(\u001b[0m\u001b[0mx\u001b[0m\u001b[1;33m)\u001b[0m \u001b[1;32mfor\u001b[0m \u001b[0mx\u001b[0m \u001b[1;32min\u001b[0m \u001b[0minputs\u001b[0m\u001b[1;33m)\u001b[0m\u001b[1;33m:\u001b[0m\u001b[1;33m\u001b[0m\u001b[1;33m\u001b[0m\u001b[0m\n",
      "\u001b[1;32md:\\clarifruit\\cherry_stem\\cherry_venv\\lib\\site-packages\\keras\\backend\\tensorflow_backend.py\u001b[0m in \u001b[0;36m_call\u001b[1;34m(self, inputs)\u001b[0m\n\u001b[0;32m   2935\u001b[0m             \u001b[0mfetched\u001b[0m \u001b[1;33m=\u001b[0m \u001b[0mself\u001b[0m\u001b[1;33m.\u001b[0m\u001b[0m_callable_fn\u001b[0m\u001b[1;33m(\u001b[0m\u001b[1;33m*\u001b[0m\u001b[0marray_vals\u001b[0m\u001b[1;33m,\u001b[0m \u001b[0mrun_metadata\u001b[0m\u001b[1;33m=\u001b[0m\u001b[0mself\u001b[0m\u001b[1;33m.\u001b[0m\u001b[0mrun_metadata\u001b[0m\u001b[1;33m)\u001b[0m\u001b[1;33m\u001b[0m\u001b[1;33m\u001b[0m\u001b[0m\n\u001b[0;32m   2936\u001b[0m         \u001b[1;32melse\u001b[0m\u001b[1;33m:\u001b[0m\u001b[1;33m\u001b[0m\u001b[1;33m\u001b[0m\u001b[0m\n\u001b[1;32m-> 2937\u001b[1;33m             \u001b[0mfetched\u001b[0m \u001b[1;33m=\u001b[0m \u001b[0mself\u001b[0m\u001b[1;33m.\u001b[0m\u001b[0m_callable_fn\u001b[0m\u001b[1;33m(\u001b[0m\u001b[1;33m*\u001b[0m\u001b[0marray_vals\u001b[0m\u001b[1;33m)\u001b[0m\u001b[1;33m\u001b[0m\u001b[1;33m\u001b[0m\u001b[0m\n\u001b[0m\u001b[0;32m   2938\u001b[0m         \u001b[1;32mreturn\u001b[0m \u001b[0mfetched\u001b[0m\u001b[1;33m[\u001b[0m\u001b[1;33m:\u001b[0m\u001b[0mlen\u001b[0m\u001b[1;33m(\u001b[0m\u001b[0mself\u001b[0m\u001b[1;33m.\u001b[0m\u001b[0moutputs\u001b[0m\u001b[1;33m)\u001b[0m\u001b[1;33m]\u001b[0m\u001b[1;33m\u001b[0m\u001b[1;33m\u001b[0m\u001b[0m\n\u001b[0;32m   2939\u001b[0m \u001b[1;33m\u001b[0m\u001b[0m\n",
      "\u001b[1;32md:\\clarifruit\\cherry_stem\\cherry_venv\\lib\\site-packages\\tensorflow\\python\\client\\session.py\u001b[0m in \u001b[0;36m__call__\u001b[1;34m(self, *args, **kwargs)\u001b[0m\n\u001b[0;32m   1456\u001b[0m         ret = tf_session.TF_SessionRunCallable(self._session._session,\n\u001b[0;32m   1457\u001b[0m                                                \u001b[0mself\u001b[0m\u001b[1;33m.\u001b[0m\u001b[0m_handle\u001b[0m\u001b[1;33m,\u001b[0m \u001b[0margs\u001b[0m\u001b[1;33m,\u001b[0m\u001b[1;33m\u001b[0m\u001b[1;33m\u001b[0m\u001b[0m\n\u001b[1;32m-> 1458\u001b[1;33m                                                run_metadata_ptr)\n\u001b[0m\u001b[0;32m   1459\u001b[0m         \u001b[1;32mif\u001b[0m \u001b[0mrun_metadata\u001b[0m\u001b[1;33m:\u001b[0m\u001b[1;33m\u001b[0m\u001b[1;33m\u001b[0m\u001b[0m\n\u001b[0;32m   1460\u001b[0m           \u001b[0mproto_data\u001b[0m \u001b[1;33m=\u001b[0m \u001b[0mtf_session\u001b[0m\u001b[1;33m.\u001b[0m\u001b[0mTF_GetBuffer\u001b[0m\u001b[1;33m(\u001b[0m\u001b[0mrun_metadata_ptr\u001b[0m\u001b[1;33m)\u001b[0m\u001b[1;33m\u001b[0m\u001b[1;33m\u001b[0m\u001b[0m\n",
      "\u001b[1;31mKeyboardInterrupt\u001b[0m: "
     ]
    }
   ],
   "source": [
    "model.fit_unet() # withot using learning rate decrease"
   ]
  },
  {
   "cell_type": "code",
   "execution_count": 5,
   "metadata": {},
   "outputs": [
    {
     "name": "stdout",
     "output_type": "stream",
     "text": [
      "2019-10-13 09:48:57,533-6d  INFO     work.unet.unet_model_functions: prediction on files from D:\\Clarifruit\\cherry_stem\\data\\raw_data\\images_orig\n",
      "2019-10-13 09:48:57,535-6d  INFO     work.unet.unet_model_functions: saving predictions to D:\\Clarifruit\\cherry_stem\\data\\unet_data\\training\\2019-10-13_03-58-48\\raw_pred\n"
     ]
    },
    {
     "data": {
      "text/plain": [
       "'D:\\\\Clarifruit\\\\cherry_stem\\\\data\\\\unet_data\\\\training\\\\2019-10-13_03-58-48\\\\raw_pred'"
      ]
     },
     "execution_count": 5,
     "metadata": {},
     "output_type": "execute_result"
    }
   ],
   "source": [
    "model.prediction(test_path,dest_path)\n"
   ]
  }
 ],
 "metadata": {
  "kernelspec": {
   "display_name": "Python 3",
   "language": "python",
   "name": "python3"
  },
  "language_info": {
   "codemirror_mode": {
    "name": "ipython",
    "version": 3
   },
   "file_extension": ".py",
   "mimetype": "text/x-python",
   "name": "python",
   "nbconvert_exporter": "python",
   "pygments_lexer": "ipython3",
   "version": "3.7.4"
  },
  "pycharm": {
   "stem_cell": {
    "cell_type": "raw",
    "metadata": {
     "collapsed": false
    },
    "source": []
   }
  }
 },
 "nbformat": 4,
 "nbformat_minor": 2
}
