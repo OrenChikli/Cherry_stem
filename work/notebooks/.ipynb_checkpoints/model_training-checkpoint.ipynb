{
 "cells": [
  {
   "cell_type": "code",
   "execution_count": 4,
   "metadata": {
    "pycharm": {
     "is_executing": false
    }
   },
   "outputs": [],
   "source": [
    "import sys\n",
    "import os\n",
    "BASE_PATH = os.path.abspath('../..')\n",
    "sys.path.append(BASE_PATH)\n",
    "\n",
    "import logging\n",
    "from work.auxiliary.logger_settings import configure_logger\n",
    "from keras.callbacks import ReduceLROnPlateau\n",
    "from work.auxiliary import data_functions\n",
    "\n",
    "from work.unet import unet_model_functions "
   ]
  },
  {
   "cell_type": "code",
   "execution_count": 5,
   "metadata": {
    "pycharm": {
     "is_executing": false
    }
   },
   "outputs": [],
   "source": [
    "LOG_PATH = os.path.join(BASE_PATH,'logs')\n",
    "DATA_PATH = os.path.join(BASE_PATH,'data') # create a data folder at the save root folder with the \"work\" folder\n",
    "\n",
    "log_path = data_functions.create_path(LOG_PATH, 'unet_logs')\n",
    "\n",
    "configure_logger(name=\"cherry_stem\",\n",
    "                 console_level='INFO',\n",
    "                 file_level='INFO',\n",
    "                 out_path=log_path)\n",
    "\n",
    "logger = logging.getLogger(__name__)"
   ]
  },
  {
   "cell_type": "markdown",
   "metadata": {},
   "source": [
    "## Define paths"
   ]
  },
  {
   "cell_type": "code",
   "execution_count": null,
   "metadata": {
    "pycharm": {
     "is_executing": false,
     "name": "#%%\n"
    }
   },
   "outputs": [],
   "source": [
    "train_path = os.path.join(BASE_PATH,r'data\\raw_data\\with_maskes') #path where the \"label\" and \"image\" folder resides\n",
    "dest_path =  os.path.join(BASE_PATH,r'data\\unet_data\\training') # the path to save the current session results\n",
    "test_path = os.path.join(BASE_PATH,r'data\\raw_data\\images_orig') # path containig images to segment\n",
    "\n",
    "pretrained_weights = os.path.join(DATA_PATH, r'unet_data\\training\\2019-09-30_07-19-46\\unet_cherry_stem.hdf5')\n",
    "\n",
    "src_path = os.path.join(BASE_PATH,r'data\\unet_data\\training\\2019-10-15_16-21-49') # optional path to load a pretrained model\n",
    "                                                                                  # to continue trainig\n",
    "steps=None # number of steps to select where to continue the trainig from"
   ]
  },
  {
   "cell_type": "markdown",
   "metadata": {},
   "source": [
    "## Model parameters example"
   ]
  },
  {
   "cell_type": "code",
   "execution_count": null,
   "metadata": {
    "pycharm": {
     "is_executing": false
    }
   },
   "outputs": [],
   "source": [
    "params_dict = dict(\n",
    "\n",
    "    train_path=train_path,\n",
    "    save_path=dest_path,\n",
    "    x_folder_name='image', # the name of the 'image' folder within the train path (contains the X data or images)\n",
    "    y_folder_name='label', # the name of the 'label' folder within the train path (contains the Y data or labels)\n",
    "\n",
    "    save_name='cherry', # name used as basename for all output which is save (the base file name)\n",
    "\n",
    "    pretrained_weights=pretrained_weights, # path to pretrained wights which can be loaded for this training session\n",
    "    checkpoint=None, #optional, path to pretrained folder of pretrained model which can be loaded for this training session\n",
    "    data_gen_args=dict(rotation_range=180,\n",
    "                       brightness_range=[0.2, 1.],\n",
    "                       shear_range=5,\n",
    "                       zoom_range=0.5,\n",
    "                       horizontal_flip=True,\n",
    "                       vertical_flip=True,\n",
    "                       fill_mode='nearest'),# augmentaion arguments for the imageDataGen module in keras\n",
    "    seed=78,# Random seed used in the generation of the train images\n",
    "\n",
    "    optimizer='Adam',# name of the optimizer to use, can be any of the optimizer in: https://keras.io/optimizers/\n",
    "    optimizer_params=dict(lr=1e-5,\n",
    "                          amsgrad=False),\n",
    "\n",
    "    loss='binary_crossentropy',\n",
    "    metrics=[],# list of metrics which will be monitored during trainig\n",
    "\n",
    "    target_size=(256, 256), # the source images are resized for computetional efficiency to this target size\n",
    "    color_mode='grayscale', # where to train of rgb images or convert to grayscale\n",
    "\n",
    "    batch_size=10,  # my GPU cant handel any more\n",
    "\n",
    "    epochs=15,\n",
    "    steps_per_epoch=100,\n",
    "    validation_split=0.2,\n",
    "    validation_steps=200,\n",
    "\n",
    "     tensorboard_update_freq=250, #update frequency for the metrics and iamges displayed in tensorboard\n",
    "    weights_update_freq='epoch', #frequency to save the model to chekpoint, if 'epoch' than after each trainig epoch\n",
    "    save_weights_only=True, # whether to save just the model weights or the model itself\n",
    "    ontop_display_threshold=0.4, # creates binary masks for model predicionts with pixel values greater than this, which are\n",
    "    #shown in tensorboard\n",
    "    callbacks=[ReduceLROnPlateau(monitor='val_loss', factor=0.1, patience=2,\n",
    "                                 verbose=1, mode='auto', min_delta=0.0001,\n",
    "                                 cooldown=0, min_lr=1e-6)])\n"
   ]
  },
  {
   "cell_type": "code",
   "execution_count": null,
   "metadata": {
    "pycharm": {
     "is_executing": false
    }
   },
   "outputs": [],
   "source": [
    "#load exsisting model\n",
    "\n",
    "update_dict = dict(tensorboard_update_freq=5000,\n",
    "                   weights_update_freq=20000,\n",
    "                   optimizer_params=dict(lr=1e-6)) # optional dictionay to update the loaded model parameters \n",
    "\n",
    "\n",
    "model = unet_model_functions.ClarifruitUnet.load_model(src_path,steps)\n",
    "model.update_model(**update_dict)"
   ]
  },
  {
   "cell_type": "code",
   "execution_count": null,
   "metadata": {
    "pycharm": {
     "is_executing": false
    },
    "scrolled": true
   },
   "outputs": [],
   "source": [
    "keras_logs_path=model.set_model_for_train()\n",
    "print(f\"tensorboard --logdir={keras_logs_path}\") #commad for activating tensorboard for this session"
   ]
  },
  {
   "cell_type": "code",
   "execution_count": null,
   "metadata": {
    "pycharm": {
     "is_executing": false
    }
   },
   "outputs": [],
   "source": [
    "model.fit_unet()"
   ]
  },
  {
   "cell_type": "code",
   "execution_count": null,
   "metadata": {
    "pycharm": {
     "is_executing": false
    }
   },
   "outputs": [],
   "source": [
    "model.prediction(test_path,dest_path)\n"
   ]
  }
 ],
 "metadata": {
  "kernelspec": {
   "display_name": "Python 3",
   "language": "python",
   "name": "python3"
  },
  "language_info": {
   "codemirror_mode": {
    "name": "ipython",
    "version": 3
   },
   "file_extension": ".py",
   "mimetype": "text/x-python",
   "name": "python",
   "nbconvert_exporter": "python",
   "pygments_lexer": "ipython3",
   "version": "3.7.4"
  },
  "pycharm": {
   "stem_cell": {
    "cell_type": "raw",
    "metadata": {
     "collapsed": false
    },
    "source": []
   }
  }
 },
 "nbformat": 4,
 "nbformat_minor": 2
}
