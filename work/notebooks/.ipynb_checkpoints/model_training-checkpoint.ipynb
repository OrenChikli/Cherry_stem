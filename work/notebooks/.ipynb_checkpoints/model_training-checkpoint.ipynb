{
 "cells": [
  {
   "cell_type": "code",
   "execution_count": 1,
   "metadata": {
    "pycharm": {
     "is_executing": false
    }
   },
   "outputs": [
    {
     "name": "stderr",
     "output_type": "stream",
     "text": [
      "Using TensorFlow backend.\n"
     ]
    }
   ],
   "source": [
    "from work.unet_main import *\n",
    "from work.unet import unet_model_functions\n",
    "\n",
    "from keras.callbacks import ReduceLROnPlateau,EarlyStopping\n"
   ]
  },
  {
   "cell_type": "code",
   "execution_count": 2,
   "metadata": {
    "pycharm": {
     "name": "#%%\n"
    }
   },
   "outputs": [],
   "source": [
    "train_path=r'D:\\Clarifruit\\cherry_stem\\data\\raw_data\\with_maskes'\n",
    "dest_path=r'D:\\Clarifruit\\cherry_stem\\data\\unet_data\\training'\n",
    "test_path=r'D:\\Clarifruit\\cherry_stem\\data\\raw_data\\images_orig'\n",
    "src_path=r'D:\\Clarifruit\\cherry_stem\\data\\unet_data\\training\\2019-09-30_07-19-46'\n",
    "\n",
    "\n",
    "\n",
    "reduce_lr = ReduceLROnPlateau(monitor='loss', factor=0.2,\n",
    "                              patience=2, min_lr=0.000001,\n",
    "                              cooldown=1, verbose=1)\n",
    "\n",
    "early_stoping = EarlyStopping(monitor='val_loss',\n",
    "                              min_delta=0,\n",
    "                              patience=3,\n",
    "                              verbose=0,\n",
    "                              mode='auto',\n",
    "                              baseline=None,\n",
    "                              restore_best_weights=False)\n",
    "\n",
    "callbacks = [reduce_lr,early_stoping]\n"
   ]
  },
  {
   "cell_type": "code",
   "execution_count": 3,
   "metadata": {
    "pycharm": {
     "name": "#%%\n"
    }
   },
   "outputs": [],
   "source": [
    "#from scratch\n",
    "params_dict = dict(\n",
    "\n",
    "    train_path=train_path,\n",
    "    x_folder_name='image',\n",
    "    y_folder_name='label',\n",
    "    weights_file_name='unet_cherry_stem.hdf5',\n",
    "\n",
    "    data_gen_args=dict(rescale=1. / 255,\n",
    "                       rotation_range=180,\n",
    "                       brightness_range=[0.2, 1.],\n",
    "                       width_shift_range=0.25,\n",
    "                       height_shift_range=0.25,\n",
    "                       shear_range=0.2,\n",
    "                       zoom_range=[0.5, 1.0],\n",
    "                       horizontal_flip=True,\n",
    "                       vertical_flip=True,\n",
    "                       fill_mode='nearest'),\n",
    "\n",
    "    optimizer='Adam',\n",
    "    optimizer_params=dict(lr=1e-4),\n",
    "    loss='binary_crossentropy',\n",
    "    metrics=['accuracy'],\n",
    "    pretrained_weights=None,\n",
    "\n",
    "    target_size=(256, 256),\n",
    "    color_mode='rgb',\n",
    "    batch_size=10,\n",
    "    epochs=5,\n",
    "    steps_per_epoch=1000,\n",
    "    valdiation_split=0.2,\n",
    "    validation_steps=200)\n",
    "\n",
    "params_dict['callbacks'] = callbacks"
   ]
  },
  {
   "cell_type": "code",
   "execution_count": 4,
   "metadata": {
    "pycharm": {
     "name": "#%%\n"
    }
   },
   "outputs": [],
   "source": [
    "#load pretrained\n",
    "params_dict = unet_model_functions.ClarifruitUnet.load_model(src_path)\n",
    "params_dict['callbacks'] = callbacks"
   ]
  },
  {
   "cell_type": "code",
   "execution_count": 5,
   "metadata": {
    "pycharm": {
     "name": "#%%\n"
    }
   },
   "outputs": [],
   "source": [
    "train_params = dict(\n",
    "\n",
    "    data_gen_args=dict(rescale=1. / 255,\n",
    "                       rotation_range=180,\n",
    "                       brightness_range=[0.2, 1.],\n",
    "                       width_shift_range=0.25,\n",
    "                       height_shift_range=0.25,\n",
    "                       shear_range=0.2,\n",
    "                       zoom_range=[0.5, 1.0],\n",
    "                       horizontal_flip=True,\n",
    "                       vertical_flip=True,\n",
    "                       fill_mode='nearest'),\n",
    "\n",
    "    callbacks=[reduce_lr],\n",
    "\n",
    "    batch_size=10,\n",
    "    epochs=3,\n",
    "    steps_per_epoch=3000,\n",
    "    valdiation_split=0.2,\n",
    "    validation_steps=300)\n",
    "\n",
    "params_dict.update(train_params)  # uncomment to modify the model parameters"
   ]
  },
  {
   "cell_type": "code",
   "execution_count": 4,
   "metadata": {
    "pycharm": {
     "is_executing": false,
     "name": "#%%\n"
    }
   },
   "outputs": [
    {
     "name": "stdout",
     "output_type": "stream",
     "text": [
      "Found 152 images belonging to 1 classes.\n",
      "Found 38 images belonging to 1 classes.\n",
      "Found 152 images belonging to 1 classes.\n",
      "Found 38 images belonging to 1 classes.\n",
      "Epoch 1/5\n",
      "1000/1000 [==============================] - 982s 982ms/step - loss: 0.1653 - acc: 0.9630 - val_loss: 0.1860 - val_acc: 0.9590\n",
      "\n",
      "Epoch 00001: loss improved from inf to 0.16477, saving model to D:\\Clarifruit\\cherry_stem\\data\\unet_data\\training\\2019-10-11_13-59-38\\unet_cherry_stem.hdf5\n",
      "Epoch 2/5\n",
      "1000/1000 [==============================] - 978s 978ms/step - loss: 0.1640 - acc: 0.9632 - val_loss: 0.1816 - val_acc: 0.9590\n",
      "\n",
      "Epoch 00002: loss improved from 0.16477 to 0.16417, saving model to D:\\Clarifruit\\cherry_stem\\data\\unet_data\\training\\2019-10-11_13-59-38\\unet_cherry_stem.hdf5\n",
      "Epoch 3/5\n",
      "1000/1000 [==============================] - 999s 999ms/step - loss: 0.1607 - acc: 0.9631 - val_loss: 0.1806 - val_acc: 0.9593\n",
      "\n",
      "Epoch 00003: loss improved from 0.16417 to 0.16106, saving model to D:\\Clarifruit\\cherry_stem\\data\\unet_data\\training\\2019-10-11_13-59-38\\unet_cherry_stem.hdf5\n",
      "Epoch 4/5\n",
      "1000/1000 [==============================] - 997s 997ms/step - loss: 0.1638 - acc: 0.9631 - val_loss: 0.1814 - val_acc: 0.9591\n",
      "\n",
      "Epoch 00004: loss did not improve from 0.16106\n",
      "Epoch 5/5\n",
      "1000/1000 [==============================] - 1001s 1s/step - loss: 0.1651 - acc: 0.9628 - val_loss: 0.1817 - val_acc: 0.9593\n",
      "\n",
      "Epoch 00005: loss did not improve from 0.16106\n",
      "\n",
      "Epoch 00005: ReduceLROnPlateau reducing learning rate to 1.9999999494757503e-05.\n"
     ]
    }
   ],
   "source": [
    "model = unet_model_functions.ClarifruitUnet(**params_dict)\n",
    "model.train_model(dest_path=dest_path,params_dict=params_dict)"
   ]
  },
  {
   "cell_type": "code",
   "execution_count": 5,
   "metadata": {},
   "outputs": [
    {
     "name": "stdout",
     "output_type": "stream",
     "text": [
      "2019-10-11 16:40:40,096-6d  INFO     work.unet.unet_model_functions: prediction on files from D:\\Clarifruit\\cherry_stem\\data\\raw_data\\images_orig\n",
      "2019-10-11 16:40:40,099-6d  INFO     work.unet.unet_model_functions: saving predictions to D:\\Clarifruit\\cherry_stem\\data\\unet_data\\training\\2019-10-11_13-59-38\\raw_pred\n"
     ]
    },
    {
     "data": {
      "text/plain": [
       "'D:\\\\Clarifruit\\\\cherry_stem\\\\data\\\\unet_data\\\\training\\\\2019-10-11_13-59-38\\\\raw_pred'"
      ]
     },
     "execution_count": 5,
     "metadata": {},
     "output_type": "execute_result"
    }
   ],
   "source": [
    "model.prediction(test_path,dest_path)\n"
   ]
  },
  {
   "cell_type": "code",
   "execution_count": 2,
   "metadata": {},
   "outputs": [],
   "source": [
    "from work.stem_classifier.model_functions import *\n"
   ]
  },
  {
   "cell_type": "code",
   "execution_count": null,
   "metadata": {},
   "outputs": [
    {
     "name": "stdout",
     "output_type": "stream",
     "text": [
      "Found 349 images belonging to 4 classes.\n",
      "Found 85 images belonging to 4 classes.\n",
      "Epoch 1/10\n",
      "3000/3000 [==============================] - 994s 331ms/step - loss: 1.1869 - acc: 0.4543 - val_loss: 2.3112 - val_acc: 0.3619\n",
      "\n",
      "Epoch 00001: loss improved from inf to 1.18693, saving model to D:\\Clarifruit\\cherry_stem\\data\\unet_data\\training\\2019-10-07_20-12-39\\2019-10-11_03-08-49\\model_weights.hdf5\n",
      "Epoch 2/10\n",
      "3000/3000 [==============================] - 1050s 350ms/step - loss: 0.6502 - acc: 0.7206 - val_loss: 3.8966 - val_acc: 0.3954\n",
      "\n",
      "Epoch 00002: loss improved from 1.18693 to 0.65009, saving model to D:\\Clarifruit\\cherry_stem\\data\\unet_data\\training\\2019-10-07_20-12-39\\2019-10-11_03-08-49\\model_weights.hdf5\n",
      "Epoch 3/10\n",
      " 448/3000 [===>..........................] - ETA: 13:08 - loss: 0.5087 - acc: 0.7811"
     ]
    }
   ],
   "source": [
    "train_path=r'D:\\Clarifruit\\cherry_stem\\data\\classification_data\\from_all\\set1\\train'\n",
    "dest_path=r'D:\\Clarifruit\\cherry_stem\\data\\unet_data\\training\\2019-10-07_20-12-39'\n",
    "test_path=r'D:\\Clarifruit\\cherry_stem\\data\\classification_data\\from_all\\set1\\test'\n",
    "\n",
    "params_dict = dict(\n",
    "\n",
    "    train_path=train_path,\n",
    "\n",
    "    data_gen_args=dict(rescale=1. / 255,\n",
    "                       rotation_range=180,\n",
    "                       width_shift_range=0.25,\n",
    "                       height_shift_range=0.25,\n",
    "                       shear_range=0.2,\n",
    "                       zoom_range=[0.5, 1.0],\n",
    "                       horizontal_flip=True,\n",
    "                       vertical_flip=True,\n",
    "                       fill_mode='nearest'),\n",
    "\n",
    "    optimizer='Adam',\n",
    "    optimizer_params=dict(lr=1e-4),\n",
    "    loss='categorical_crossentropy',\n",
    "    metrics=['accuracy'],\n",
    "    pretrained_weights=None,\n",
    "\n",
    "    target_size=(256, 256),\n",
    "    color_mode='rgb',\n",
    "    batch_size=10,\n",
    "    epochs=10,\n",
    "    steps_per_epoch=3000,\n",
    "    valdiation_split=0.2,\n",
    "    validation_steps=300)\n",
    "\n",
    "\n",
    "\n",
    "model = ClarifruitClassifier(**params_dict)\n",
    "\n",
    "model.train_model(dest_path=dest_path,params_dict=params_dict)\n",
    "\n",
    "\n"
   ]
  },
  {
   "cell_type": "code",
   "execution_count": null,
   "metadata": {},
   "outputs": [],
   "source": [
    "model.prediction(test_path,dest_path)"
   ]
  }
 ],
 "metadata": {
  "kernelspec": {
   "display_name": "Python 3",
   "language": "python",
   "name": "python3"
  },
  "language_info": {
   "codemirror_mode": {
    "name": "ipython",
    "version": 3
   },
   "file_extension": ".py",
   "mimetype": "text/x-python",
   "name": "python",
   "nbconvert_exporter": "python",
   "pygments_lexer": "ipython3",
   "version": "3.7.4"
  },
  "pycharm": {
   "stem_cell": {
    "cell_type": "raw",
    "metadata": {
     "collapsed": false
    },
    "source": []
   }
  }
 },
 "nbformat": 4,
 "nbformat_minor": 2
}
