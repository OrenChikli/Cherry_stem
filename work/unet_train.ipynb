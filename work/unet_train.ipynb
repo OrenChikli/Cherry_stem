{
 "cells": [
  {
   "cell_type": "code",
   "execution_count": null,
   "metadata": {
    "pycharm": {
     "is_executing": true
    }
   },
   "outputs": [],
   "source": [
    "from work.unet.data_functions import *"
   ]
  },
  {
   "cell_type": "code",
   "execution_count": null,
   "metadata": {
    "pycharm": {
     "is_executing": true
    }
   },
   "outputs": [],
   "source": [
    "train_path = r'D:\\Clarifruit\\cherry_stem\\data\\unet_data\\train'\n",
    "test_path = r'D:\\Clarifruit\\cherry_stem\\data\\unet_data\\test'\n",
    "test_aug_path = os.path.join(test_path, 'aug')\n",
    "\n",
    "target_size = (256, 256)\n",
    "modes_dict = {'grayscale': 1, 'rgb': 3}\n",
    "color_mode = 'grayscale'\n",
    "\n",
    "x_folder_name = 'image'\n",
    "y_folder_name = 'label'\n",
    "\n",
    "x_prefix = 'image'\n",
    "y_prefix = 'label'\n",
    "\n",
    "weights_file_name = 'unet_cherry_stem.hdfs5'\n",
    "input_size = (*target_size, modes_dict[color_mode])\n",
    "\n",
    "data_gen_args = dict(rotation_range=0.2,\n",
    "                     width_shift_range=0.05,\n",
    "                     height_shift_range=0.05,\n",
    "                     shear_range=0.05,\n",
    "                     zoom_range=0.05,\n",
    "                     horizontal_flip=True,\n",
    "                     fill_mode='nearest')"
   ]
  },
  {
   "cell_type": "code",
   "execution_count": null,
   "metadata": {
    "pycharm": {
     "is_executing": true
    }
   },
   "outputs": [],
   "source": [
    "\n",
    "train_gen = clarifruit_train_generator(batch_size=2,\n",
    "                                       train_path=train_path,\n",
    "                                       image_folder=x_folder_name,\n",
    "                                       mask_folder=y_folder_name,\n",
    "                                       aug_dict=data_gen_args,\n",
    "                                       image_color_mode=color_mode,\n",
    "                                       mask_color_mode=color_mode,\n",
    "                                       image_save_prefix=x_prefix,\n",
    "                                       mask_save_prefix=y_prefix,\n",
    "                                       flag_multi_class=False,\n",
    "                                       num_class=2,\n",
    "                                       save_to_dir=None,\n",
    "                                       target_size=target_size,\n",
    "                                       seed=1)\n",
    "\n",
    "test_gen = clarifruit_train_generator(batch_size=2,\n",
    "                                      train_path=test_path,\n",
    "                                      image_folder=x_folder_name,\n",
    "                                      mask_folder=y_folder_name,\n",
    "                                      aug_dict=data_gen_args,\n",
    "                                      image_color_mode=color_mode,\n",
    "                                      mask_color_mode=color_mode,\n",
    "                                      image_save_prefix=x_prefix,\n",
    "                                      mask_save_prefix=y_prefix,\n",
    "                                      flag_multi_class=False,\n",
    "                                      num_class=2,\n",
    "                                      save_to_dir=None,\n",
    "                                      target_size=target_size,\n",
    "                                      seed=1)\n",
    "\n"
   ]
  },
  {
   "cell_type": "code",
   "execution_count": null,
   "metadata": {
    "pycharm": {
     "is_executing": true
    }
   },
   "outputs": [],
   "source": [
    "model = unet(input_size=input_size)\n",
    "model_checkpoint = ModelCheckpoint(weights_file_name, monitor='loss', verbose=1, save_best_only=True)"
   ]
  },
  {
   "cell_type": "code",
   "execution_count": null,
   "outputs": [],
   "source": [
    "model.fit_generator(train_gen, steps_per_epoch=100, epochs=3, callbacks=[model_checkpoint])"
   ],
   "metadata": {
    "collapsed": false,
    "pycharm": {
     "name": "#%%\n"
    }
   }
  },
  {
   "cell_type": "code",
   "execution_count": null,
   "metadata": {
    "pycharm": {
     "is_executing": true
    }
   },
   "outputs": [],
   "source": [
    "model.evaluate_generator(test_gen, steps=30, callbacks=[model_checkpoint], verbose=1)"
   ]
  },
  {
   "cell_type": "code",
   "execution_count": null,
   "metadata": {
    "pycharm": {
     "is_executing": true
    }
   },
   "outputs": [],
   "source": [
    "test = clarifruit_test_generator(batch_size=1,\n",
    "                                 test_path=test_path,\n",
    "                                 folder=x_folder_name,\n",
    "                                 aug_dict=data_gen_args,\n",
    "                                 save_prefix=x_prefix,\n",
    "                                 color_mode=color_mode,\n",
    "                                 save_to_dir=test_aug_path,\n",
    "                                 target_size=input_size,\n",
    "                                 seed=1)\n",
    "\n",
    "results = model.predict_generator(generator=test, steps=30, verbose=1)\n",
    "saveResult(test_path, results)"
   ]
  },
  {
   "cell_type": "code",
   "execution_count": null,
   "metadata": {},
   "outputs": [],
   "source": []
  }
 ],
 "metadata": {
  "kernelspec": {
   "display_name": "Python 3",
   "language": "python",
   "name": "python3"
  },
  "language_info": {
   "codemirror_mode": {
    "name": "ipython",
    "version": 3
   },
   "file_extension": ".py",
   "mimetype": "text/x-python",
   "name": "python",
   "nbconvert_exporter": "python",
   "pygments_lexer": "ipython3",
   "version": "3.7.4"
  },
  "pycharm": {
   "stem_cell": {
    "cell_type": "raw",
    "source": [],
    "metadata": {
     "collapsed": false
    }
   }
  }
 },
 "nbformat": 4,
 "nbformat_minor": 1
}