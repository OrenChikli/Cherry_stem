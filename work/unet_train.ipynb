{
 "cells": [
  {
   "cell_type": "code",
   "execution_count": 1,
   "metadata": {
    "pycharm": {
     "is_executing": false
    }
   },
   "outputs": [
    {
     "name": "stderr",
     "output_type": "stream",
     "text": [
      "Using TensorFlow backend.\n"
     ]
    }
   ],
   "source": [
    "from unet.data_functions import *"
   ]
  },
  {
   "cell_type": "code",
   "execution_count": 2,
   "metadata": {
    "pycharm": {
     "is_executing": false
    }
   },
   "outputs": [],
   "source": [
    "train_path = r'D:\\Clarifruit\\cherry_stem\\data\\unet_data\\train'\n",
    "test_path = r'D:\\Clarifruit\\cherry_stem\\data\\unet_data\\test'\n",
    "test_aug_path = os.path.join(test_path, 'aug')\n",
    "\n",
    "target_size = (256, 256)\n",
    "modes_dict = {'grayscale': 1, 'rgb': 3}\n",
    "\n",
    "color_mode = 'rgb'\n",
    "\n",
    "x_folder_name = 'image'\n",
    "y_folder_name = 'label'\n",
    "\n",
    "x_prefix = 'image'\n",
    "y_prefix = 'label'\n",
    "\n",
    "weights_file_name = 'unet_cherry_stem.hdfs5'\n",
    "input_size = (*target_size, modes_dict[color_mode])\n",
    "\n",
    "data_gen_args = dict(rescale=1./255,\n",
    "                     rotation_range=0.5,\n",
    "                     width_shift_range=0.05,\n",
    "                     height_shift_range=0.05,\n",
    "                     shear_range=0.05,\n",
    "                     zoom_range=0.05,\n",
    "                     horizontal_flip=True,\n",
    "                     fill_mode='nearest')"
   ]
  },
  {
   "cell_type": "code",
   "execution_count": 3,
   "metadata": {
    "pycharm": {
     "is_executing": false
    }
   },
   "outputs": [
    {
     "name": "stdout",
     "output_type": "stream",
     "text": [
      "Found 107 images belonging to 1 classes.\n",
      "Found 26 images belonging to 1 classes.\n",
      "Found 107 images belonging to 1 classes.\n",
      "Found 26 images belonging to 1 classes.\n"
     ]
    }
   ],
   "source": [
    "\n",
    "train_generator, val_generator = clarifruit_train_val_generators(batch_size=10,\n",
    "                                       src_path=train_path,\n",
    "                                       image_folder=x_folder_name,\n",
    "                                       mask_folder=y_folder_name,\n",
    "                                       aug_dict=data_gen_args,\n",
    "                                       image_color_mode=color_mode,\n",
    "                                       mask_color_mode='grayscale',\n",
    "                                       image_save_prefix=x_prefix,\n",
    "                                       mask_save_prefix=y_prefix,\n",
    "                                       save_to_dir=None,\n",
    "                                       target_size=target_size,\n",
    "                                       seed=1)"
   ]
  },
  {
   "cell_type": "code",
   "execution_count": 4,
   "metadata": {
    "pycharm": {
     "is_executing": false
    }
   },
   "outputs": [
    {
     "name": "stdout",
     "output_type": "stream",
     "text": [
      "WARNING:tensorflow:From d:\\clarifruit\\cherry_stem\\cherry_venv\\lib\\site-packages\\keras\\backend\\tensorflow_backend.py:66: The name tf.get_default_graph is deprecated. Please use tf.compat.v1.get_default_graph instead.\n",
      "\n",
      "WARNING:tensorflow:From d:\\clarifruit\\cherry_stem\\cherry_venv\\lib\\site-packages\\keras\\backend\\tensorflow_backend.py:541: The name tf.placeholder is deprecated. Please use tf.compat.v1.placeholder instead.\n",
      "\n",
      "WARNING:tensorflow:From d:\\clarifruit\\cherry_stem\\cherry_venv\\lib\\site-packages\\keras\\backend\\tensorflow_backend.py:4479: The name tf.truncated_normal is deprecated. Please use tf.random.truncated_normal instead.\n",
      "\n",
      "WARNING:tensorflow:From d:\\clarifruit\\cherry_stem\\cherry_venv\\lib\\site-packages\\keras\\backend\\tensorflow_backend.py:4267: The name tf.nn.max_pool is deprecated. Please use tf.nn.max_pool2d instead.\n",
      "\n",
      "WARNING:tensorflow:From d:\\clarifruit\\cherry_stem\\cherry_venv\\lib\\site-packages\\keras\\backend\\tensorflow_backend.py:148: The name tf.placeholder_with_default is deprecated. Please use tf.compat.v1.placeholder_with_default instead.\n",
      "\n",
      "WARNING:tensorflow:From d:\\clarifruit\\cherry_stem\\cherry_venv\\lib\\site-packages\\keras\\backend\\tensorflow_backend.py:3733: calling dropout (from tensorflow.python.ops.nn_ops) with keep_prob is deprecated and will be removed in a future version.\n",
      "Instructions for updating:\n",
      "Please use `rate` instead of `keep_prob`. Rate should be set to `rate = 1 - keep_prob`.\n",
      "WARNING:tensorflow:From d:\\clarifruit\\cherry_stem\\cherry_venv\\lib\\site-packages\\keras\\backend\\tensorflow_backend.py:2239: The name tf.image.resize_nearest_neighbor is deprecated. Please use tf.compat.v1.image.resize_nearest_neighbor instead.\n",
      "\n",
      "WARNING:tensorflow:From d:\\clarifruit\\cherry_stem\\cherry_venv\\lib\\site-packages\\keras\\backend\\tensorflow_backend.py:4432: The name tf.random_uniform is deprecated. Please use tf.random.uniform instead.\n",
      "\n",
      "WARNING:tensorflow:From d:\\clarifruit\\cherry_stem\\cherry_venv\\lib\\site-packages\\keras\\optimizers.py:793: The name tf.train.Optimizer is deprecated. Please use tf.compat.v1.train.Optimizer instead.\n",
      "\n",
      "WARNING:tensorflow:From d:\\clarifruit\\cherry_stem\\cherry_venv\\lib\\site-packages\\tensorflow\\python\\ops\\nn_impl.py:180: add_dispatch_support.<locals>.wrapper (from tensorflow.python.ops.array_ops) is deprecated and will be removed in a future version.\n",
      "Instructions for updating:\n",
      "Use tf.where in 2.0, which has the same broadcast rule as np.where\n"
     ]
    }
   ],
   "source": [
    "model = unet(input_size=input_size,pretrained_weights=weights_file_name)\n",
    "model_checkpoint = ModelCheckpoint(weights_file_name, monitor='loss', verbose=1, save_best_only=True)"
   ]
  },
  {
   "cell_type": "code",
   "execution_count": 7,
   "metadata": {},
   "outputs": [],
   "source": [
    "epochs=5\n",
    "steps_per_epoch = 100\n",
    "validation_steps = 100"
   ]
  },
  {
   "cell_type": "code",
   "execution_count": 8,
   "metadata": {
    "pycharm": {
     "name": "#%%\n"
    }
   },
   "outputs": [
    {
     "name": "stdout",
     "output_type": "stream",
     "text": [
      "Epoch 1/5\n",
      "100/100 [==============================] - 121s 1s/step - loss: 0.0363 - acc: 0.9339 - val_loss: 0.0511 - val_acc: 0.9243\n",
      "\n",
      "Epoch 00001: loss improved from inf to 0.03632, saving model to unet_cherry_stem.hdfs5\n",
      "Epoch 2/5\n",
      "100/100 [==============================] - 119s 1s/step - loss: 0.0261 - acc: 0.9339 - val_loss: 0.0382 - val_acc: 0.9255\n",
      "\n",
      "Epoch 00002: loss improved from 0.03632 to 0.02615, saving model to unet_cherry_stem.hdfs5\n",
      "Epoch 3/5\n",
      "100/100 [==============================] - 119s 1s/step - loss: 0.0258 - acc: 0.9333 - val_loss: 0.0381 - val_acc: 0.9253\n",
      "\n",
      "Epoch 00003: loss improved from 0.02615 to 0.02583, saving model to unet_cherry_stem.hdfs5\n",
      "Epoch 4/5\n",
      "100/100 [==============================] - 119s 1s/step - loss: 0.0252 - acc: 0.9340 - val_loss: 0.0383 - val_acc: 0.9253\n",
      "\n",
      "Epoch 00004: loss improved from 0.02583 to 0.02521, saving model to unet_cherry_stem.hdfs5\n",
      "Epoch 5/5\n",
      "100/100 [==============================] - 120s 1s/step - loss: 0.0248 - acc: 0.9341 - val_loss: 0.0387 - val_acc: 0.9253\n",
      "\n",
      "Epoch 00005: loss improved from 0.02521 to 0.02471, saving model to unet_cherry_stem.hdfs5\n"
     ]
    },
    {
     "data": {
      "text/plain": [
       "<keras.callbacks.History at 0x1d6ba5ff388>"
      ]
     },
     "execution_count": 8,
     "metadata": {},
     "output_type": "execute_result"
    }
   ],
   "source": [
    "model.fit_generator(\n",
    "    train_generator,\n",
    "    steps_per_epoch = steps_per_epoch,\n",
    "    validation_data = val_generator, \n",
    "    validation_steps = validation_steps,\n",
    "    epochs = epochs,\n",
    "    callbacks=[model_checkpoint])\n",
    "\n"
   ]
  },
  {
   "cell_type": "code",
   "execution_count": 9,
   "metadata": {},
   "outputs": [
    {
     "name": "stderr",
     "output_type": "stream",
     "text": [
      "d:\\clarifruit\\cherry_stem\\cherry_venv\\lib\\site-packages\\skimage\\io\\_io.py:141: UserWarning: D:\\Clarifruit\\cherry_stem\\data\\unet_data\\test\\pred\\38359-29555.png_predict.png is a low contrast image\n",
      "  warn('%s is a low contrast image' % fname)\n",
      "d:\\clarifruit\\cherry_stem\\cherry_venv\\lib\\site-packages\\skimage\\io\\_io.py:141: UserWarning: D:\\Clarifruit\\cherry_stem\\data\\unet_data\\test\\pred\\38359-39133.png_predict.png is a low contrast image\n",
      "  warn('%s is a low contrast image' % fname)\n",
      "d:\\clarifruit\\cherry_stem\\cherry_venv\\lib\\site-packages\\skimage\\io\\_io.py:141: UserWarning: D:\\Clarifruit\\cherry_stem\\data\\unet_data\\test\\pred\\38376-48758.png_predict.png is a low contrast image\n",
      "  warn('%s is a low contrast image' % fname)\n",
      "d:\\clarifruit\\cherry_stem\\cherry_venv\\lib\\site-packages\\skimage\\io\\_io.py:141: UserWarning: D:\\Clarifruit\\cherry_stem\\data\\unet_data\\test\\pred\\38376-70744.png_predict.png is a low contrast image\n",
      "  warn('%s is a low contrast image' % fname)\n",
      "d:\\clarifruit\\cherry_stem\\cherry_venv\\lib\\site-packages\\skimage\\io\\_io.py:141: UserWarning: D:\\Clarifruit\\cherry_stem\\data\\unet_data\\test\\pred\\38376-84404.png_predict.png is a low contrast image\n",
      "  warn('%s is a low contrast image' % fname)\n",
      "d:\\clarifruit\\cherry_stem\\cherry_venv\\lib\\site-packages\\skimage\\io\\_io.py:141: UserWarning: D:\\Clarifruit\\cherry_stem\\data\\unet_data\\test\\pred\\45783-98635.png_predict.png is a low contrast image\n",
      "  warn('%s is a low contrast image' % fname)\n",
      "d:\\clarifruit\\cherry_stem\\cherry_venv\\lib\\site-packages\\skimage\\io\\_io.py:141: UserWarning: D:\\Clarifruit\\cherry_stem\\data\\unet_data\\test\\pred\\77824-60302.png_predict.png is a low contrast image\n",
      "  warn('%s is a low contrast image' % fname)\n",
      "d:\\clarifruit\\cherry_stem\\cherry_venv\\lib\\site-packages\\skimage\\io\\_io.py:141: UserWarning: D:\\Clarifruit\\cherry_stem\\data\\unet_data\\test\\pred\\78702-88582.png_predict.png is a low contrast image\n",
      "  warn('%s is a low contrast image' % fname)\n"
     ]
    }
   ],
   "source": [
    "test_path_image = os.path.join(test_path,x_folder_name)\n",
    "pred_path = os.path.join(test_path,'pred')\n",
    "prediction(model, test_path_image, pred_path, target_size,as_gray=False)\n"
   ]
  },
  {
   "cell_type": "code",
   "execution_count": null,
   "metadata": {},
   "outputs": [],
   "source": []
  }
 ],
 "metadata": {
  "kernelspec": {
   "display_name": "Python 3",
   "language": "python",
   "name": "python3"
  },
  "language_info": {
   "codemirror_mode": {
    "name": "ipython",
    "version": 3
   },
   "file_extension": ".py",
   "mimetype": "text/x-python",
   "name": "python",
   "nbconvert_exporter": "python",
   "pygments_lexer": "ipython3",
   "version": "3.7.4"
  },
  "pycharm": {
   "stem_cell": {
    "cell_type": "raw",
    "metadata": {
     "collapsed": false
    },
    "source": []
   }
  }
 },
 "nbformat": 4,
 "nbformat_minor": 1
}
