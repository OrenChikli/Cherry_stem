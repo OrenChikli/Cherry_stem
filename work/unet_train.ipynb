{
 "cells": [
  {
   "cell_type": "code",
   "execution_count": 1,
   "metadata": {
    "pycharm": {
     "is_executing": false
    }
   },
   "outputs": [
    {
     "name": "stderr",
     "output_type": "stream",
     "text": [
      "Using TensorFlow backend.\n"
     ]
    }
   ],
   "source": [
    "from work.unet.data_functions import *"
   ]
  },
  {
   "cell_type": "code",
   "execution_count": 2,
   "metadata": {
    "pycharm": {
     "is_executing": false
    }
   },
   "outputs": [],
   "source": [
    "train_path = r'D:\\Clarifruit\\cherry_stem\\data\\unet_data\\train'\n",
    "test_path = r'D:\\Clarifruit\\cherry_stem\\data\\unet_data\\test'\n",
    "test_aug_path = os.path.join(test_path, 'aug')\n",
    "\n",
    "target_size = (256, 256)\n",
    "modes_dict = {'grayscale': 1, 'rgb': 3}\n",
    "\n",
    "color_mode = 'rgb'\n",
    "\n",
    "x_folder_name = 'image'\n",
    "y_folder_name = 'label'\n",
    "\n",
    "x_prefix = 'image'\n",
    "y_prefix = 'label'\n",
    "\n",
    "weights_file_name = 'unet_cherry_stem.hdfs5'\n",
    "input_size = (*target_size, modes_dict[color_mode])\n",
    "\n",
    "data_gen_args = dict(rotation_range=0.2,\n",
    "                     width_shift_range=0.05,\n",
    "                     height_shift_range=0.05,\n",
    "                     shear_range=0.05,\n",
    "                     zoom_range=0.05,\n",
    "                     horizontal_flip=True,\n",
    "                     fill_mode='nearest')"
   ]
  },
  {
   "cell_type": "code",
   "execution_count": 3,
   "metadata": {
    "pycharm": {
     "is_executing": false
    }
   },
   "outputs": [],
   "source": [
    "\n",
    "train_gen = clarifruit_train_generator(batch_size=2,\n",
    "                                       train_path=train_path,\n",
    "                                       image_folder=x_folder_name,\n",
    "                                       mask_folder=y_folder_name,\n",
    "                                       aug_dict=data_gen_args,\n",
    "                                       image_color_mode=color_mode,\n",
    "                                       mask_color_mode='grayscale',\n",
    "                                       image_save_prefix=x_prefix,\n",
    "                                       mask_save_prefix=y_prefix,\n",
    "                                       flag_multi_class=False,\n",
    "                                       num_class=2,\n",
    "                                       save_to_dir=None,\n",
    "                                       target_size=target_size,\n",
    "                                       seed=1)\n",
    "\n",
    "test_gen = clarifruit_train_generator(batch_size=2,\n",
    "                                      train_path=test_path,\n",
    "                                      image_folder=x_folder_name,\n",
    "                                      mask_folder=y_folder_name,\n",
    "                                      aug_dict=data_gen_args,\n",
    "                                      image_color_mode=color_mode,\n",
    "                                      mask_color_mode='grayscale',\n",
    "                                      image_save_prefix=x_prefix,\n",
    "                                      mask_save_prefix=y_prefix,\n",
    "                                      flag_multi_class=False,\n",
    "                                      num_class=2,\n",
    "                                      save_to_dir=None,\n",
    "                                      target_size=target_size,\n",
    "                                      seed=1)\n",
    "\n"
   ]
  },
  {
   "cell_type": "code",
   "execution_count": 4,
   "metadata": {
    "pycharm": {
     "is_executing": false
    }
   },
   "outputs": [
    {
     "name": "stdout",
     "output_type": "stream",
     "text": [
      "WARNING:tensorflow:From d:\\clarifruit\\cherry_stem\\cherry_venv\\lib\\site-packages\\keras\\backend\\tensorflow_backend.py:66: The name tf.get_default_graph is deprecated. Please use tf.compat.v1.get_default_graph instead.\n",
      "\n",
      "WARNING:tensorflow:From d:\\clarifruit\\cherry_stem\\cherry_venv\\lib\\site-packages\\keras\\backend\\tensorflow_backend.py:541: The name tf.placeholder is deprecated. Please use tf.compat.v1.placeholder instead.\n",
      "\n",
      "WARNING:tensorflow:From d:\\clarifruit\\cherry_stem\\cherry_venv\\lib\\site-packages\\keras\\backend\\tensorflow_backend.py:4479: The name tf.truncated_normal is deprecated. Please use tf.random.truncated_normal instead.\n",
      "\n",
      "WARNING:tensorflow:From d:\\clarifruit\\cherry_stem\\cherry_venv\\lib\\site-packages\\keras\\backend\\tensorflow_backend.py:4267: The name tf.nn.max_pool is deprecated. Please use tf.nn.max_pool2d instead.\n",
      "\n",
      "WARNING:tensorflow:From d:\\clarifruit\\cherry_stem\\cherry_venv\\lib\\site-packages\\keras\\backend\\tensorflow_backend.py:148: The name tf.placeholder_with_default is deprecated. Please use tf.compat.v1.placeholder_with_default instead.\n",
      "\n",
      "WARNING:tensorflow:From d:\\clarifruit\\cherry_stem\\cherry_venv\\lib\\site-packages\\keras\\backend\\tensorflow_backend.py:3733: calling dropout (from tensorflow.python.ops.nn_ops) with keep_prob is deprecated and will be removed in a future version.\n",
      "Instructions for updating:\n",
      "Please use `rate` instead of `keep_prob`. Rate should be set to `rate = 1 - keep_prob`.\n",
      "WARNING:tensorflow:From d:\\clarifruit\\cherry_stem\\cherry_venv\\lib\\site-packages\\keras\\backend\\tensorflow_backend.py:2239: The name tf.image.resize_nearest_neighbor is deprecated. Please use tf.compat.v1.image.resize_nearest_neighbor instead.\n",
      "\n",
      "WARNING:tensorflow:From d:\\clarifruit\\cherry_stem\\cherry_venv\\lib\\site-packages\\keras\\backend\\tensorflow_backend.py:4432: The name tf.random_uniform is deprecated. Please use tf.random.uniform instead.\n",
      "\n",
      "WARNING:tensorflow:From d:\\clarifruit\\cherry_stem\\cherry_venv\\lib\\site-packages\\keras\\optimizers.py:793: The name tf.train.Optimizer is deprecated. Please use tf.compat.v1.train.Optimizer instead.\n",
      "\n",
      "WARNING:tensorflow:From d:\\clarifruit\\cherry_stem\\cherry_venv\\lib\\site-packages\\tensorflow\\python\\ops\\nn_impl.py:180: add_dispatch_support.<locals>.wrapper (from tensorflow.python.ops.array_ops) is deprecated and will be removed in a future version.\n",
      "Instructions for updating:\n",
      "Use tf.where in 2.0, which has the same broadcast rule as np.where\n"
     ]
    },
    {
     "name": "stderr",
     "output_type": "stream",
     "text": [
      "D:\\Clarifruit\\cherry_stem\\work\\unet\\model.py:54: UserWarning: Update your `Model` call to the Keras 2 API: `Model(inputs=Tensor(\"in..., outputs=Tensor(\"co...)`\n",
      "  model = Model(input=inputs, output=conv10)\n"
     ]
    }
   ],
   "source": [
    "model = unet(input_size=input_size)\n",
    "model_checkpoint = ModelCheckpoint(weights_file_name, monitor='loss', verbose=1, save_best_only=True)"
   ]
  },
  {
   "cell_type": "code",
   "execution_count": 5,
   "metadata": {
    "pycharm": {
     "name": "#%%\n"
    }
   },
   "outputs": [
    {
     "name": "stdout",
     "output_type": "stream",
     "text": [
      "Epoch 1/3\n",
      "Found 133 images belonging to 1 classes.\n",
      "Found 133 images belonging to 1 classes.\n",
      "100/100 [==============================] - 48s 483ms/step - loss: 0.1622 - acc: 0.9844\n",
      "\n",
      "Epoch 00001: loss improved from inf to 0.16259, saving model to unet_cherry_stem.hdfs5\n",
      "Epoch 2/3\n",
      "100/100 [==============================] - 26s 258ms/step - loss: 0.0710 - acc: 0.9844\n",
      "\n",
      "Epoch 00002: loss improved from 0.16259 to 0.07098, saving model to unet_cherry_stem.hdfs5\n",
      "Epoch 3/3\n",
      "100/100 [==============================] - 26s 258ms/step - loss: 0.0515 - acc: 0.9847\n",
      "\n",
      "Epoch 00003: loss improved from 0.07098 to 0.05166, saving model to unet_cherry_stem.hdfs5\n"
     ]
    },
    {
     "data": {
      "text/plain": [
       "<keras.callbacks.History at 0x13bc42e8dc8>"
      ]
     },
     "execution_count": 5,
     "metadata": {},
     "output_type": "execute_result"
    }
   ],
   "source": [
    "model.fit_generator(train_gen, steps_per_epoch=100, epochs=3, callbacks=[model_checkpoint])"
   ]
  },
  {
   "cell_type": "code",
   "execution_count": 6,
   "metadata": {
    "pycharm": {
     "is_executing": false
    }
   },
   "outputs": [
    {
     "name": "stdout",
     "output_type": "stream",
     "text": [
      "Found 57 images belonging to 1 classes.\n",
      "Found 57 images belonging to 1 classes.\n",
      "30/30 [==============================] - 3s 100ms/step\n"
     ]
    },
    {
     "data": {
      "text/plain": [
       "[0.04449215615010363, 0.985897258176642]"
      ]
     },
     "execution_count": 6,
     "metadata": {},
     "output_type": "execute_result"
    }
   ],
   "source": [
    "model.evaluate_generator(test_gen, steps=30, callbacks=[model_checkpoint], verbose=1)"
   ]
  },
  {
   "cell_type": "code",
   "execution_count": 7,
   "metadata": {},
   "outputs": [
    {
     "name": "stdout",
     "output_type": "stream",
     "text": [
      "Found 57 images belonging to 1 classes.\n",
      "30/30 [==============================] - 2s 55ms/step\n"
     ]
    },
    {
     "name": "stderr",
     "output_type": "stream",
     "text": [
      "d:\\clarifruit\\cherry_stem\\cherry_venv\\lib\\site-packages\\skimage\\io\\_io.py:141: UserWarning: D:\\Clarifruit\\cherry_stem\\data\\unet_data\\test\\aug\\38357-13707.png.jpg_predict.png is a low contrast image\n",
      "  warn('%s is a low contrast image' % fname)\n",
      "d:\\clarifruit\\cherry_stem\\cherry_venv\\lib\\site-packages\\skimage\\io\\_io.py:141: UserWarning: D:\\Clarifruit\\cherry_stem\\data\\unet_data\\test\\aug\\38357-27009.png.jpg_predict.png is a low contrast image\n",
      "  warn('%s is a low contrast image' % fname)\n",
      "d:\\clarifruit\\cherry_stem\\cherry_venv\\lib\\site-packages\\skimage\\io\\_io.py:141: UserWarning: D:\\Clarifruit\\cherry_stem\\data\\unet_data\\test\\aug\\38357-47985.png.jpg_predict.png is a low contrast image\n",
      "  warn('%s is a low contrast image' % fname)\n",
      "d:\\clarifruit\\cherry_stem\\cherry_venv\\lib\\site-packages\\skimage\\io\\_io.py:141: UserWarning: D:\\Clarifruit\\cherry_stem\\data\\unet_data\\test\\aug\\38357-62566.png.jpg_predict.png is a low contrast image\n",
      "  warn('%s is a low contrast image' % fname)\n",
      "d:\\clarifruit\\cherry_stem\\cherry_venv\\lib\\site-packages\\skimage\\io\\_io.py:141: UserWarning: D:\\Clarifruit\\cherry_stem\\data\\unet_data\\test\\aug\\38357-65124.png.jpg_predict.png is a low contrast image\n",
      "  warn('%s is a low contrast image' % fname)\n",
      "d:\\clarifruit\\cherry_stem\\cherry_venv\\lib\\site-packages\\skimage\\io\\_io.py:141: UserWarning: D:\\Clarifruit\\cherry_stem\\data\\unet_data\\test\\aug\\38359-29555.png.jpg_predict.png is a low contrast image\n",
      "  warn('%s is a low contrast image' % fname)\n",
      "d:\\clarifruit\\cherry_stem\\cherry_venv\\lib\\site-packages\\skimage\\io\\_io.py:141: UserWarning: D:\\Clarifruit\\cherry_stem\\data\\unet_data\\test\\aug\\38359-39133.png.jpg_predict.png is a low contrast image\n",
      "  warn('%s is a low contrast image' % fname)\n",
      "d:\\clarifruit\\cherry_stem\\cherry_venv\\lib\\site-packages\\skimage\\io\\_io.py:141: UserWarning: D:\\Clarifruit\\cherry_stem\\data\\unet_data\\test\\aug\\38359-43983.png.jpg_predict.png is a low contrast image\n",
      "  warn('%s is a low contrast image' % fname)\n",
      "d:\\clarifruit\\cherry_stem\\cherry_venv\\lib\\site-packages\\skimage\\io\\_io.py:141: UserWarning: D:\\Clarifruit\\cherry_stem\\data\\unet_data\\test\\aug\\38360-28107.png.jpg_predict.png is a low contrast image\n",
      "  warn('%s is a low contrast image' % fname)\n",
      "d:\\clarifruit\\cherry_stem\\cherry_venv\\lib\\site-packages\\skimage\\io\\_io.py:141: UserWarning: D:\\Clarifruit\\cherry_stem\\data\\unet_data\\test\\aug\\38360-46226.png.jpg_predict.png is a low contrast image\n",
      "  warn('%s is a low contrast image' % fname)\n",
      "d:\\clarifruit\\cherry_stem\\cherry_venv\\lib\\site-packages\\skimage\\io\\_io.py:141: UserWarning: D:\\Clarifruit\\cherry_stem\\data\\unet_data\\test\\aug\\38376-48758.png.jpg_predict.png is a low contrast image\n",
      "  warn('%s is a low contrast image' % fname)\n",
      "d:\\clarifruit\\cherry_stem\\cherry_venv\\lib\\site-packages\\skimage\\io\\_io.py:141: UserWarning: D:\\Clarifruit\\cherry_stem\\data\\unet_data\\test\\aug\\38376-70744.png.jpg_predict.png is a low contrast image\n",
      "  warn('%s is a low contrast image' % fname)\n",
      "d:\\clarifruit\\cherry_stem\\cherry_venv\\lib\\site-packages\\skimage\\io\\_io.py:141: UserWarning: D:\\Clarifruit\\cherry_stem\\data\\unet_data\\test\\aug\\38376-84404.png.jpg_predict.png is a low contrast image\n",
      "  warn('%s is a low contrast image' % fname)\n",
      "d:\\clarifruit\\cherry_stem\\cherry_venv\\lib\\site-packages\\skimage\\io\\_io.py:141: UserWarning: D:\\Clarifruit\\cherry_stem\\data\\unet_data\\test\\aug\\45783-98635.png.jpg_predict.png is a low contrast image\n",
      "  warn('%s is a low contrast image' % fname)\n",
      "d:\\clarifruit\\cherry_stem\\cherry_venv\\lib\\site-packages\\skimage\\io\\_io.py:141: UserWarning: D:\\Clarifruit\\cherry_stem\\data\\unet_data\\test\\aug\\67260-17950.png.jpg_predict.png is a low contrast image\n",
      "  warn('%s is a low contrast image' % fname)\n",
      "d:\\clarifruit\\cherry_stem\\cherry_venv\\lib\\site-packages\\skimage\\io\\_io.py:141: UserWarning: D:\\Clarifruit\\cherry_stem\\data\\unet_data\\test\\aug\\67260-70372.png.jpg_predict.png is a low contrast image\n",
      "  warn('%s is a low contrast image' % fname)\n",
      "d:\\clarifruit\\cherry_stem\\cherry_venv\\lib\\site-packages\\skimage\\io\\_io.py:141: UserWarning: D:\\Clarifruit\\cherry_stem\\data\\unet_data\\test\\aug\\71089-05856.png.jpg_predict.png is a low contrast image\n",
      "  warn('%s is a low contrast image' % fname)\n",
      "d:\\clarifruit\\cherry_stem\\cherry_venv\\lib\\site-packages\\skimage\\io\\_io.py:141: UserWarning: D:\\Clarifruit\\cherry_stem\\data\\unet_data\\test\\aug\\71089-06764.png.jpg_predict.png is a low contrast image\n",
      "  warn('%s is a low contrast image' % fname)\n",
      "d:\\clarifruit\\cherry_stem\\cherry_venv\\lib\\site-packages\\skimage\\io\\_io.py:141: UserWarning: D:\\Clarifruit\\cherry_stem\\data\\unet_data\\test\\aug\\71089-98830.png.jpg_predict.png is a low contrast image\n",
      "  warn('%s is a low contrast image' % fname)\n",
      "d:\\clarifruit\\cherry_stem\\cherry_venv\\lib\\site-packages\\skimage\\io\\_io.py:141: UserWarning: D:\\Clarifruit\\cherry_stem\\data\\unet_data\\test\\aug\\71094-12813.png.jpg_predict.png is a low contrast image\n",
      "  warn('%s is a low contrast image' % fname)\n",
      "d:\\clarifruit\\cherry_stem\\cherry_venv\\lib\\site-packages\\skimage\\io\\_io.py:141: UserWarning: D:\\Clarifruit\\cherry_stem\\data\\unet_data\\test\\aug\\71094-68328.png.jpg_predict.png is a low contrast image\n",
      "  warn('%s is a low contrast image' % fname)\n",
      "d:\\clarifruit\\cherry_stem\\cherry_venv\\lib\\site-packages\\skimage\\io\\_io.py:141: UserWarning: D:\\Clarifruit\\cherry_stem\\data\\unet_data\\test\\aug\\72157-48926.png.jpg_predict.png is a low contrast image\n",
      "  warn('%s is a low contrast image' % fname)\n",
      "d:\\clarifruit\\cherry_stem\\cherry_venv\\lib\\site-packages\\skimage\\io\\_io.py:141: UserWarning: D:\\Clarifruit\\cherry_stem\\data\\unet_data\\test\\aug\\72158-08735.png.jpg_predict.png is a low contrast image\n",
      "  warn('%s is a low contrast image' % fname)\n",
      "d:\\clarifruit\\cherry_stem\\cherry_venv\\lib\\site-packages\\skimage\\io\\_io.py:141: UserWarning: D:\\Clarifruit\\cherry_stem\\data\\unet_data\\test\\aug\\72182-43672.png.jpg_predict.png is a low contrast image\n",
      "  warn('%s is a low contrast image' % fname)\n",
      "d:\\clarifruit\\cherry_stem\\cherry_venv\\lib\\site-packages\\skimage\\io\\_io.py:141: UserWarning: D:\\Clarifruit\\cherry_stem\\data\\unet_data\\test\\aug\\72205-89625.png.jpg_predict.png is a low contrast image\n",
      "  warn('%s is a low contrast image' % fname)\n",
      "d:\\clarifruit\\cherry_stem\\cherry_venv\\lib\\site-packages\\skimage\\io\\_io.py:141: UserWarning: D:\\Clarifruit\\cherry_stem\\data\\unet_data\\test\\aug\\72492-85602.png.jpg_predict.png is a low contrast image\n",
      "  warn('%s is a low contrast image' % fname)\n",
      "d:\\clarifruit\\cherry_stem\\cherry_venv\\lib\\site-packages\\skimage\\io\\_io.py:141: UserWarning: D:\\Clarifruit\\cherry_stem\\data\\unet_data\\test\\aug\\72513-03174.png.jpg_predict.png is a low contrast image\n",
      "  warn('%s is a low contrast image' % fname)\n",
      "d:\\clarifruit\\cherry_stem\\cherry_venv\\lib\\site-packages\\skimage\\io\\_io.py:141: UserWarning: D:\\Clarifruit\\cherry_stem\\data\\unet_data\\test\\aug\\72513-66190.png.jpg_predict.png is a low contrast image\n",
      "  warn('%s is a low contrast image' % fname)\n",
      "d:\\clarifruit\\cherry_stem\\cherry_venv\\lib\\site-packages\\skimage\\io\\_io.py:141: UserWarning: D:\\Clarifruit\\cherry_stem\\data\\unet_data\\test\\aug\\74717-45732.png.jpg_predict.png is a low contrast image\n",
      "  warn('%s is a low contrast image' % fname)\n",
      "d:\\clarifruit\\cherry_stem\\cherry_venv\\lib\\site-packages\\skimage\\io\\_io.py:141: UserWarning: D:\\Clarifruit\\cherry_stem\\data\\unet_data\\test\\aug\\74721-05089.png.jpg_predict.png is a low contrast image\n",
      "  warn('%s is a low contrast image' % fname)\n"
     ]
    }
   ],
   "source": [
    "test = custom_generator(batch_size=1,\n",
    "                        train_path=test_path,\n",
    "                        folder=x_folder_name,\n",
    "                        aug_dict={**data_gen_args,**dict(rescale=1./255)},\n",
    "                        save_prefix=x_prefix,\n",
    "                        color_mode=color_mode,\n",
    "                        save_to_dir=test_aug_path,\n",
    "                        target_size=target_size,\n",
    "                        seed=1)\n",
    "results = model.predict_generator(generator=test, steps=30, verbose=1)\n",
    "saveResult(test_aug_path,test,results)"
   ]
  },
  {
   "cell_type": "code",
   "execution_count": null,
   "metadata": {},
   "outputs": [],
   "source": []
  }
 ],
 "metadata": {
  "kernelspec": {
   "display_name": "Python 3",
   "language": "python",
   "name": "python3"
  },
  "language_info": {
   "codemirror_mode": {
    "name": "ipython",
    "version": 3
   },
   "file_extension": ".py",
   "mimetype": "text/x-python",
   "name": "python",
   "nbconvert_exporter": "python",
   "pygments_lexer": "ipython3",
   "version": "3.7.4"
  },
  "pycharm": {
   "stem_cell": {
    "cell_type": "raw",
    "metadata": {
     "collapsed": false
    },
    "source": []
   }
  }
 },
 "nbformat": 4,
 "nbformat_minor": 1
}
