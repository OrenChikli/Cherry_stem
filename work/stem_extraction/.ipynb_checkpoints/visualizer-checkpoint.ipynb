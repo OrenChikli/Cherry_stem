{
 "cells": [
  {
   "cell_type": "code",
   "execution_count": null,
   "metadata": {
    "collapsed": true
   },
   "outputs": [],
   "source": [
    "from work.segmentation.clarifruit_segmentation.image import Image\n",
    "\n"
   ]
  },
  {
   "cell_type": "code",
   "execution_count": null,
   "metadata": {},
   "outputs": [],
   "source": [
    "\n",
    "img_path = r'D:\\Clarifruit\\cherry_stem\\data\\raw_data\\images_orig'\n",
    "mask_path = r'D:\\Clarifruit\\cherry_stem\\data\\unet_data\\training\\2019-09-22_23-55-20\\masks'\n",
    "\n",
    "img_name='38360-25986.png.jpg'\n",
    "cur_img_path = \n",
    "\n",
    "threshold = 100"
   ]
  }
 ],
 "metadata": {
  "kernelspec": {
   "display_name": "Python 3",
   "language": "python",
   "name": "python3"
  },
  "language_info": {
   "codemirror_mode": {
    "name": "ipython",
    "version": 3
   },
   "file_extension": ".py",
   "mimetype": "text/x-python",
   "name": "python",
   "nbconvert_exporter": "python",
   "pygments_lexer": "ipython3",
   "version": "3.7.4"
  }
 },
 "nbformat": 4,
 "nbformat_minor": 1
}
